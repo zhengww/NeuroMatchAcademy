{
  "nbformat": 4,
  "nbformat_minor": 0,
  "metadata": {
    "kernelspec": {
      "display_name": "Python 3",
      "language": "python",
      "name": "python3"
    },
    "language_info": {
      "codemirror_mode": {
        "name": "ipython",
        "version": 3
      },
      "file_extension": ".py",
      "mimetype": "text/x-python",
      "name": "python",
      "nbconvert_exporter": "python",
      "pygments_lexer": "ipython3",
      "version": "3.6.5"
    },
    "pycharm": {
      "stem_cell": {
        "cell_type": "raw",
        "metadata": {
          "collapsed": false
        },
        "source": [
          "# Tutorial 1- Optimal Control for Discrete State\n",
          "\n",
          "Please execute the cell below to initialize the notebook environment.\n",
          "\n",
          "import numpy as np                 # import numpy\n",
          "import scipy               # import scipy\n",
          "import random                      # import basic random number generator functions\n",
          "from scipy.linalg import inv\n",
          "\n",
          "import matplotlib.pyplot as plt    # import matplotlib\n",
          "\n",
          "---\n",
          "\n",
          "## Tutorial objectives\n",
          "\n",
          "In this tutorial, we will implement a binary HMM task.\n",
          "\n",
          "---\n",
          "\n",
          "## Task Description\n",
          "\n",
          "There are two boxes. The box can be in a high-rewarding state ($s=1$), which means that a reward will be delivered with high probabilty $q_{high}$; or the box can be in low-rewarding state ($s=0$), then the reward will be delivered with low probabilty $q_{low}$.\n",
          "\n",
          "The states of the two boxes are latent. At a certain time, only one of the sites can be in high-rewarding state, and the other box will be the opposite. The states of the two boxes switches with a certain probability $p_{sw}$. \n",
          "\n",
          "![alt text](switching.png \"Title\")\n",
          "\n",
          "\n",
          "The agent may stay at one site for sometime. As the agent accumulates evidence about the state of the box on that site, it may choose to stay or switch to the other side with a switching cost $c$. The agent keeps beliefs on the states of the boxes, which is the posterior probability of the state being high-rewarding given all the past observations. Consider the belief on the state of the left box, we have \n",
          "\n",
          "$$b(s_t) = p(s_t = 1 | o_{0:t}, l_{0:t}, a_{0:t-1})$$\n",
          "\n",
          "where $o$ is the observation that whether a reward is obtained, $l$ is the location of the agent, $a$ is the action of staying ($a=0$) or switching($a=1$). \n",
          "\n",
          "Since the two boxes are completely anti-correlated, i.e. only one of the boxes is high-rewarded at a certain time, the the other one is low-rewarded, the belief on the two boxes should sum up to be 1. As a result, we only need to track the belief on one of the boxes. \n",
          "\n",
          "The policy of the agent depends on a threshold on beliefs. When the belief on the box on the other side gets higher than the threshold $\\theta$, the agent will switch to the other side. In other words, the agent will choose to switch when it is confident enough that the other side is high rewarding. \n",
          "\n",
          "The value function can be defined as the reward rate during a single trial.\n",
          "\n",
          "$$v(\\theta) = \\sum_t r_t - c\\cdot 1_{a_t = 1}$$ \n",
          "\n",
          "we would like to see the relation between the threshold and the value function. \n",
          "\n",
          "### Exercise 1: Control for binary HMM\n",
          "In this excercise, we generate the dynamics for the binary HMM task as described above. \n",
          "\n",
          "# This function is the policy based on threshold\n",
          "\n",
          "def policy(threshold, bel, loc):\n",
          "    if loc == 0:\n",
          "        if bel[1]  >= threshold:\n",
          "            act = 1\n",
          "        else:\n",
          "            act = 0\n",
          "    else:  # loc = 1\n",
          "        if bel[0] >= threshold:\n",
          "            act = 1\n",
          "        else:\n",
          "            act = 0\n",
          "\n",
          "    return act\n",
          "\n",
          "# This function generates the dynamics\n",
          "\n",
          "def generateProcess(params):\n",
          "\n",
          "    T, p_sw, q_high, q_low, cost_sw, threshold = params\n",
          "    world_state = np.zeros((2, T), int)  # value :1: good box; 0: bad box\n",
          "    loc = np.zeros(T, int)  # 0: left box               1: right box\n",
          "    obs = np.zeros(T, int)  # 0: did not get food        1: get food\n",
          "    act = np.zeros(T, int)  # 0 : stay                   1: switch and get food from the other side\n",
          "    bel = np.zeros((2, T), float)  # the probability that the left box has food,\n",
          "    # then the probability that the second box has food is 1-b\n",
          "\n",
          "\n",
          "    p = np.array([1 - p_sw, p_sw])  # transition probability to good state\n",
          "    q = np.array([q_low, q_high])\n",
          "    q_mat = np.array([[1 - q_high, q_high], [1 - q_low, q_low]])\n",
          "\n",
          "    for t in range(T):\n",
          "        if t == 0:\n",
          "            world_state[0, t] = 1    # good box\n",
          "            world_state[1, t] = 1 - world_state[0, t]\n",
          "            loc[t] = 0\n",
          "            obs[t] = 0\n",
          "            bel_0 = np.random.random(1)[0]\n",
          "            bel[:, t] = np.array([bel_0, 1-bel_0])\n",
          "\n",
          "            act[t] = policy(threshold, bel[:, t], loc[t])\n",
          "\n",
          "        else:\n",
          "            world_state[0, t] = np.random.binomial(1, p[world_state[0, t - 1]])\n",
          "            world_state[1, t] = 1 - world_state[0, t]\n",
          "\n",
          "            if act[t - 1] == 0:\n",
          "                loc[t] = loc[t - 1]\n",
          "            else:  # after weitching, open the new box, deplete if any; then wait a usualy time\n",
          "                loc[t] = 1 - loc[t - 1]\n",
          "\n",
          "            # new observation\n",
          "            obs[t] = np.random.binomial(1, q[world_state[loc[t], t-1]])\n",
          "\n",
          "            # update belief posterior, p(s[t] | obs(0-t), act(0-t-1))\n",
          "            bel_0 = (bel[0, t-1] * p_sw  + bel[1, t-1] * (1 - p_sw)) * q_mat[loc[t], obs[t]]\n",
          "            bel_1 = (bel[1, t - 1] * p_sw + bel[0, t - 1] * (1 - p_sw)) * q_mat[1-loc[t], obs[t]]\n",
          "\n",
          "            bel[0, t] = bel_0 / (bel_0 + bel_1)\n",
          "            bel[1, t] = bel_1 / (bel_0 + bel_1)\n",
          "\n",
          "            act[t] = policy(threshold, bel[:, t], loc[t])\n",
          "\n",
          "    return bel, obs, act, world_state, loc\n",
          "\n",
          "# value function \n",
          "def value_function(obs, act, cost_sw, discount):\n",
          "    T = len(obs)\n",
          "    discount_time = np.array([discount ** t for t in range(T)])\n",
          "\n",
          "    #value = (np.sum(obs) - np.sum(act) * cost_sw) / T\n",
          "    value = (np.sum(np.multiply(obs, discount_time)) - np.sum(np.multiply(act, discount_time)) * cost_sw) / T\n",
          "\n",
          "    return value\n",
          "\n",
          "def switch_int(obs, act):\n",
          "    sw_t = np.where(act == 1)[0]\n",
          "    sw_int = sw_t[1:] - sw_t[:-1]\n",
          "\n",
          "    return sw_int\n",
          "\n",
          "#Plotting \n",
          "def plot_dynamics(bel, obs, act, world_state, loc):\n",
          "    T = len(obs)\n",
          "\n",
          "    showlen = min(T, 100)\n",
          "    startT = 0\n",
          "\n",
          "    endT = startT + showlen\n",
          "    showT = range(startT, endT)\n",
          "    time_range = np.linspace(0, showlen - 1)\n",
          "\n",
          "    fig_posterior, [ax0, ax1, ax_loc, ax2, ax3] = plt.subplots(5, 1, figsize=(15, 10))\n",
          "\n",
          "    ax0.plot(world_state[0, showT], color='dodgerblue', markersize=10, linewidth=3.0)\n",
          "    ax0.set_ylabel('Left box', rotation=360, fontsize=22)\n",
          "    ax0.yaxis.set_label_coords(-0.1, 0.25)\n",
          "    ax0.set_xticks(np.arange(0, showlen, 10))\n",
          "    ax0.tick_params(axis='both', which='major', labelsize=18)\n",
          "    ax0.set_xlim([0, showlen])\n",
          "\n",
          "\n",
          "    ax3.plot(world_state[1, showT], color='dodgerblue', markersize=10, linewidth=3.0)\n",
          "    ax3.set_ylabel('Right box', rotation=360, fontsize=22)\n",
          "    ax3.yaxis.set_label_coords(-0.1, 0.25)\n",
          "    ax3.tick_params(axis='both', which='major', labelsize=18)\n",
          "    ax3.set_xlim([0, showlen])\n",
          "    ax3.set_xticks(np.arange(0, showlen, 10))\n",
          "\n",
          "    ax1.plot(bel[0, showT], color='dodgerblue', markersize=10, linewidth=3.0)\n",
          "    ax1.plot(time_range, threshold * np.ones(time_range.shape), 'r--')\n",
          "    ax1.yaxis.set_label_coords(-0.1, 0.25)\n",
          "    ax1.set_ylabel('Belief on \\n left box', rotation=360, fontsize=22)\n",
          "    ax1.tick_params(axis='both', which='major', labelsize=18)\n",
          "    ax1.set_xlim([0, showlen])\n",
          "    ax1.set_ylim([0, 1])\n",
          "    ax1.set_xticks(np.arange(0, showlen, 10))\n",
          "\n",
          "\n",
          "    ax_loc.plot(1 - loc[showT], 'g.-', markersize=12, linewidth=5, label = 'location')\n",
          "    ax_loc.plot((act[showT] - .1) * .8, 'v', markersize=10, label = 'action')\n",
          "    ax_loc.plot(obs[showT] * .5, '*', markersize=5, label = 'reward')\n",
          "    ax_loc.legend(loc=\"upper right\")\n",
          "    ax_loc.set_xlim([0, showlen])\n",
          "    ax_loc.set_ylim([0, 1])\n",
          "    #ax_loc.set_yticks([])\n",
          "    ax_loc.set_xticks([0, showlen])\n",
          "    ax_loc.tick_params(axis='both', which='major', labelsize=18)\n",
          "    labels = [item.get_text() for item in ax_loc.get_yticklabels()]\n",
          "    labels[0] = 'Right'\n",
          "    labels[-1] = 'Left'\n",
          "    ax_loc.set_yticklabels(labels)\n",
          "\n",
          "    ax2.plot(bel[1, showT], color='dodgerblue', markersize=10, linewidth=3.0)\n",
          "    ax2.plot(time_range, threshold * np.ones(time_range.shape), 'r--')\n",
          "    ax2.set_xlabel('time', fontsize=18)\n",
          "    ax2.yaxis.set_label_coords(-0.1, 0.25)\n",
          "    ax2.set_ylabel('Belief on  \\n  right box', rotation=360, fontsize=22)\n",
          "    ax2.tick_params(axis='both', which='major', labelsize=18)\n",
          "    ax2.set_xlim([0, showlen])\n",
          "    ax2.set_ylim([0, 1])\n",
          "    ax2.set_xticks(np.arange(0, showlen, 10))\n",
          "\n",
          "    plt.show()\n",
          "\n",
          "def plot_val_thre(threshold_array, value_array):\n",
          "    fig_, ax = plt.subplots(1, 1, figsize=(10, 10))\n",
          "    ax.plot(threshold_array, value_array)\n",
          "    ax.set_ylim([np.min(value_array), np.max(value_array)])\n",
          "    ax.set_title('threshold vs value')\n",
          "    ax.set_xlabel('threshold')\n",
          "    ax.set_ylabel('value')\n",
          "    plt.show()\n",
          "\n",
          "T = 5000\n",
          "p_sw = .95          # state transiton probability\n",
          "q_high = .7\n",
          "q_low = 0 #.2\n",
          "cost_sw = 1 #int(1/(1-p_sw)) - 5\n",
          "threshold = .8    # threshold of belief for switching\n",
          "discount = 1\n",
          "\n",
          "step = 0.1\n",
          "threshold_array = np.arange(0, 1 + step, step)\n",
          "value_array = np.zeros(threshold_array.shape)\n",
          "\n",
          "for i in range(len(threshold_array)):\n",
          "    threshold = threshold_array[i]\n",
          "    params = [T, p_sw, q_high, q_low, cost_sw, threshold]\n",
          "    bel, obs, act, world_state, loc = generateProcess(params)\n",
          "    value_array[i] = value_function(obs, act, cost_sw, discount)\n",
          "    sw_int = switch_int(obs, act)\n",
          "    #print(np.mean(sw_int))\n",
          "\n",
          "    if threshold == 0.8:\n",
          "        plot_dynamics(bel, obs, act, world_state, loc)\n",
          "\n",
          "plot_val_thre(threshold_array, value_array)\n",
          "\n",
          "\n",
          "\n",
          "\n",
          "\n",
          "\n",
          "\n",
          "\n"
        ]
      }
    },
    "colab": {
      "name": "Tutorial1_optimal_control_discrete.ipynb",
      "provenance": [],
      "collapsed_sections": []
    }
  },
  "cells": [
    {
      "cell_type": "markdown",
      "metadata": {
        "id": "FdNoX-pa3k7x",
        "colab_type": "text"
      },
      "source": [
        "# Tutorial 1- Optimal Control and Fishing\n",
        "\n",
        "(By Zhengwei Wu and Xaq Pitkow)\n",
        "\n",
        "Please execute the cell below to initialize the notebook environment.\n"
      ]
    },
    {
      "cell_type": "code",
      "metadata": {
        "id": "2T2eacv13k7z",
        "colab_type": "code",
        "colab": {}
      },
      "source": [
        "import numpy as np                 # import numpy\n",
        "import scipy                       # import scipy\n",
        "import random                      # import basic random number generator functions\n",
        "from scipy.linalg import inv       # import matrix inversion\n",
        "import matplotlib.pyplot as plt    # import matplotlib\n",
        "%matplotlib inline\n",
        "from IPython import display\n",
        "\n",
        "#fig_w, fig_h = (8, 6)\n",
        "#plt.rcParams.update({'figure.figsize': (fig_w, fig_h)})"
      ],
      "execution_count": null,
      "outputs": []
    },
    {
      "cell_type": "markdown",
      "metadata": {
        "id": "EEtFErXIGIL6",
        "colab_type": "text"
      },
      "source": [
        "---\n",
        "###Insert Tutorial 1a here (0:29-5:30)\n",
        "(or maybe want to split out the first part, which is an overview)"
      ]
    },
    {
      "cell_type": "markdown",
      "metadata": {
        "id": "RYqoaTCk3k76",
        "colab_type": "text"
      },
      "source": [
        "---\n",
        "\n",
        "## Tutorial objectives\n",
        "\n",
        "In this tutorial, we will implement a binary control task: a Partially Observable Markov Decision Process (POMDP) that describes fishing. The agent (you) seeks reward from two fishing sites without directly observing where the school of fish is. Based on when and where you catch fish, you keep updating your belief about the fish location, i.e. the posterior of the fish given past observations. You should control your position to get the most fish while minimizing the cost of switching sides.\n",
        "\n",
        "You've already learned about stochastic dynamics, latent states, and measurements. Now we introduce you to the new concepts of **control, utility, policy**.\n"
      ]
    },
    {
      "cell_type": "markdown",
      "metadata": {
        "id": "_KKRwWuo3k78",
        "colab_type": "text"
      },
      "source": [
        "---\n",
        "\n",
        "## Task Description\n",
        "\n",
        "There are two locations for the fish and you (Left and Right). If you're on the same side as the fish, you'll catch more, with probabilty $q_{\\rm high}$ per discrete time step. Otherwise you may still catch fish with probability $q_{\\rm low}$. One fish is worth 1 \"point\".\n",
        "\n",
        "The fish location is latent. The only information you have about the fish location is when you catch one. Secretly the fish switch sides with a certain probability $p_{\\rm sw} = 1 - p_{\\rm stay}$.\n",
        "\n",
        "\n",
        "You are in control of your location. You may stay on your current side with no cost, or switch to the other side and incur an action cost $c$ (again, in units of fish).\n",
        "\n",
        "You select controls or actions by following a **policy**. This defines what to do in any situation. Here the situation is specified by your location and your belief about the fish location. For optimal control we assume that this belief is the posterior probability over the current fish location, given all the past measurements. We only need one number for this, since the fish are either on the left or the right. So we write \n",
        "\n",
        "$$b_t = p(s^{\\rm fish}_t = {\\rm Right}\\  |\\  m_{0:t}, a_{0:t-1})$$\n",
        "\n",
        "where $m$ are the measurements, and $a$ are the controls or actions (stay or switch).\n",
        "\n",
        "Here we parameterize the policy by a simple threshold on beliefs. (This happens to be optimal if you pick the right threshold!) When your belief that fish are on the current side falls below a threshold $\\theta$, you switch to the other side.\n"
      ]
    },
    {
      "cell_type": "markdown",
      "metadata": {
        "id": "_E6RfR5w3k79",
        "colab_type": "text"
      },
      "source": [
        "---\n",
        "### Exercise 1: Binary POMDP\n",
        "In this exercise, we define the binary POMDP task described above. \n",
        "\n",
        "** Suggestions **\n",
        "* The code has been wrapped into an object. We provide the function to generate the world states over time.\n",
        "* A function in which the policy is lazy, i.e. always staying at one side, is provided. \n",
        "[link text](https://)"
      ]
    },
    {
      "cell_type": "code",
      "metadata": {
        "id": "JZk90wrfHXaS",
        "colab_type": "code",
        "colab": {}
      },
      "source": [
        "class binaryHMM():\n",
        "    def __init__(self, params, world_initial = 0, loc_initial = 0):\n",
        "        self.params = params\n",
        "        #self.choose_policy = choose_policy\n",
        "\n",
        "        self.world_initial = world_initial\n",
        "        self.loc_initial = loc_initial\n",
        "\n",
        "\n",
        "    def world_state_telegraph(self, state_past, p_stay):\n",
        "        \"\"\"\n",
        "        state_past is the state of the left site\n",
        "        \"\"\"\n",
        "        state_new = (1 - np.random.binomial(1, p_stay)) ^ state_past    # ^ is XOR\n",
        "\n",
        "        return state_new\n",
        "\n",
        "\n",
        "    def world_dynamics(self):\n",
        "        T, p_stay, rp_high, rp_low, threshold = self.params\n",
        "        world_state = np.zeros((2, T), int)  # 1: high-rewarding ; 0: low-rewarding \n",
        "\n",
        "        for t in range(T):\n",
        "            if t == 0:\n",
        "                world_state[self.world_initial, t] = 1    # high-rewarding box\n",
        "                world_state[1 - self.world_initial, t] = 1 - world_state[self.world_initial, t]\n",
        "            else:\n",
        "                world_state[0, t] = self.world_state_telegraph(world_state[0, t-1], p_stay)\n",
        "                world_state[1, t] = 1 - world_state[0, t]\n",
        "        \n",
        "        return world_state\n",
        "\n",
        "\n",
        "    def generateProcess_lazy(self):\n",
        "        \"\"\"\n",
        "        You stay on a certain site, and observe the measurements\n",
        "        \"\"\"\n",
        "        T, p_stay, rp_high, rp_low, threshold = self.params\n",
        "        rp = np.array([rp_low, rp_high])\n",
        "\n",
        "        world_state = self.world_dynamics()\n",
        "\n",
        "        loc  = np.zeros(T, int)               # 0: left box, 1: right box\n",
        "        meas = np.zeros(T, int)               # 0: no food, 1: get food\n",
        "\n",
        "        for t in range(T):\n",
        "            if t == 0:\n",
        "                loc[t] = self.loc_initial\n",
        "                meas[t] = 0\n",
        "\n",
        "            else: \n",
        "                loc[t] = loc[t - 1]\n",
        "                # new measurement\n",
        "                meas[t] = np.random.binomial(1, rp[world_state[loc[t], t-1]])\n",
        "\n",
        "        return world_state, loc, meas\n",
        "\n",
        "    def plot_world(self, world_state):\n",
        "        T = world_state.shape[1]\n",
        "\n",
        "        showlen = min(T, 200)\n",
        "        startT = 0\n",
        "\n",
        "        endT = startT + showlen\n",
        "        showT = range(startT, endT)\n",
        "        time_range = np.linspace(0, showlen - 1)\n",
        "\n",
        "\n",
        "        fig, ax = plt.subplots(1, 1, figsize=(12, 2))\n",
        "        \n",
        "        ax.plot(world_state[0, showT], color='dodgerblue', markersize=10, linewidth=3.0)\n",
        "        ax.set_xlabel('time', fontsize=18)\n",
        "        ax.set_ylabel('Fish state', rotation=360, fontsize=18)\n",
        "        ax.yaxis.set_label_coords(-0.1, 0.25)\n",
        "        ax.set_xticks([0, showlen, showlen])\n",
        "        ax.tick_params(axis='both', which='major', labelsize=18)\n",
        "        ax.set_xlim([0, showlen])\n",
        "        ax.set_ylim([0, 1.1])\n",
        "        ax.set_yticks([0, 1])\n",
        "        ax.tick_params(axis='both', which='major', labelsize=18)\n",
        "        labels = [item.get_text() for item in ax.get_yticklabels()]\n",
        "        labels[0] = 'Right'\n",
        "        labels[-1] = 'Left'\n",
        "        ax.set_yticklabels(labels)\n",
        "\n",
        "    def plot_meas(self, meas):\n",
        "        T = world_state.shape[1]\n",
        "\n",
        "        showlen = min(T, 200)\n",
        "        startT = 0\n",
        "\n",
        "        endT = startT + showlen\n",
        "        showT = range(startT, endT)\n",
        "        time_range = np.linspace(0, showlen - 1)\n",
        "\n",
        "\n",
        "        fig, ax = plt.subplots(1, 1, figsize=(12, 2))\n",
        "        \n",
        "        ax.plot(meas[showT], 'r*', markersize=5)\n",
        "        ax.set_xlabel('time', fontsize=18)\n",
        "        ax.set_ylabel('Measurement', rotation=360, fontsize=18)\n",
        "        ax.yaxis.set_label_coords(-0.1, 0.25)\n",
        "        ax.set_xticks([0, showlen, showlen])\n",
        "        ax.tick_params(axis='both', which='major', labelsize=18)\n",
        "        ax.set_xlim([0, showlen])\n",
        "        ax.set_ylim([0, 1.1])\n",
        "        ax.set_yticks([])\n",
        "      \n",
        "\n",
        "\n"
      ],
      "execution_count": null,
      "outputs": []
    },
    {
      "cell_type": "markdown",
      "metadata": {
        "id": "czP3iyvDaVRz",
        "colab_type": "text"
      },
      "source": [
        "#### Generate the world states to observe the telegraph process."
      ]
    },
    {
      "cell_type": "code",
      "metadata": {
        "id": "FfvZujqDMN2Y",
        "colab_type": "code",
        "colab": {}
      },
      "source": [
        "T = 200\n",
        "\n",
        "p_stay = .95     # probability fish stay\n",
        "rp_high = .4    # p(catch fish) when you're on their side\n",
        "rp_low = .1     # p(catch fish) when you're on other side\n",
        "\n",
        "params = [T, p_stay, rp_high, rp_low, _]\n",
        "\n",
        "binaryHMM_test = binaryHMM(params)\n"
      ],
      "execution_count": null,
      "outputs": []
    },
    {
      "cell_type": "code",
      "metadata": {
        "id": "SkTFJPTgMnmE",
        "colab_type": "code",
        "colab": {
          "base_uri": "https://localhost:8080/",
          "height": 187
        },
        "outputId": "26625f3a-3396-4b95-c3c6-de829c0b126a"
      },
      "source": [
        "world_state = binaryHMM_test.world_dynamics()\n",
        "binaryHMM_test.plot_world(world_state)"
      ],
      "execution_count": null,
      "outputs": [
        {
          "output_type": "display_data",
          "data": {
            "image/png": "[encoded data removed]",
            "text/plain": [
              "<Figure size 864x144 with 1 Axes>"
            ]
          },
          "metadata": {
            "tags": [],
            "needs_background": "light"
          }
        }
      ]
    },
    {
      "cell_type": "markdown",
      "metadata": {
        "id": "TdUSWSfQYYbD",
        "colab_type": "text"
      },
      "source": [
        "#### Now set $p_{\\rm stay} = 1$ so that the state of the two sites are fixed. The variable `world_initial` indicates the side with high-reward probability (0 for left side, and 1 for right side). The `loc_initial` indicates the initial location of you. Make the two variables the same first, check the measurements; and then make them different to compare the measurements. "
      ]
    },
    {
      "cell_type": "code",
      "metadata": {
        "id": "dup7tkqIOG24",
        "colab_type": "code",
        "colab": {}
      },
      "source": [
        "T = 1000\n",
        "\n",
        "p_stay = 1     # probability fish stay\n",
        "rp_high = .4    # p(catch fish) when you're on their side\n",
        "rp_low = .1     # p(catch fish) when you're on other side"
      ],
      "execution_count": null,
      "outputs": []
    },
    {
      "cell_type": "code",
      "metadata": {
        "id": "li2abl9pOS7D",
        "colab_type": "code",
        "colab": {
          "base_uri": "https://localhost:8080/",
          "height": 187
        },
        "outputId": "c7710ff2-a597-4fb5-9752-60985b9f2477"
      },
      "source": [
        "params = [T, p_stay, rp_high, rp_low, _]\n",
        "\n",
        "binaryHMM_test = binaryHMM(params, world_initial= 0, loc_initial=0)\n",
        "world_state, loc, meas = binaryHMM_test.generateProcess_lazy()\n",
        "binaryHMM_test.plot_meas(meas)"
      ],
      "execution_count": null,
      "outputs": [
        {
          "output_type": "display_data",
          "data": {
            "image/png": "[encoded data removed]",
            "text/plain": [
              "<Figure size 864x144 with 1 Axes>"
            ]
          },
          "metadata": {
            "tags": [],
            "needs_background": "light"
          }
        }
      ]
    },
    {
      "cell_type": "markdown",
      "metadata": {
        "id": "MSakPQ763k8D",
        "colab_type": "text"
      },
      "source": [
        "### Exercise 2: Use the binary HMM module to plot dynamics and belief distribution\n",
        "\n",
        "In Excercise 1, we have defined a class for the binary HMM task. Now in this excercise, we extended the module to generate the dynamics including policy and beliefs. With the generated data, we will see what the dynamic looks like, and how the beliefs are distributed, etc.\n",
        "\n",
        "** Suggestions **\n",
        "\n",
        "* You must code a policy based on threshold in `def policy_threshold(self, threshold, belief, loc)`. The policy takes three inputs: your belief that the fish is on the right (a real number between 0 and 1), your location (\"Left\" or \"Right\"), and an action threshold. When your belief that you are on the same side as the fish drops below the threshold, you choose to switch, and otherwise stay. A lazy policy function `def policy_lazy(self, belief, loc)` is provided in which you always stay on one side. \n",
        "\n",
        "* For convenience, your belief at time *t* is actually a 2-dimensional vector, with the first element being the belief that the fish are on the left, and the second element is the belief the fish are on the right. You will need to return the action for time *t*, which takes the value of \"stay\" or \"switch\".\n",
        "\n"
      ]
    },
    {
      "cell_type": "code",
      "metadata": {
        "id": "kIxSv_uZ3k7-",
        "colab_type": "code",
        "colab": {}
      },
      "source": [
        "class binaryHMM_belief(binaryHMM):\n",
        "    def __init__(self, params, world_initial = 0, loc_initial = 0, choose_policy = 'threshold'):\n",
        "        binaryHMM.__init__(self, params, world_initial, loc_initial)\n",
        "        self.choose_policy = choose_policy\n",
        "\n",
        "    def generateProcess(self):  \n",
        "        \"\"\"\n",
        "        This function generates the dynamics\n",
        "        \"\"\"\n",
        "        \n",
        "        T, p_stay, rp_high, rp_low, threshold = self.params\n",
        "        world_state = self.world_dynamics()   # 1: high-rewarding box; 0: low-rewarding box\n",
        "        loc  = np.zeros(T, int)               # 0: left box, 1: right box\n",
        "        meas = np.zeros(T, int)               # 0: no food, 1: get food\n",
        "        act  = np.empty(T, dtype='object')    # \"stay\", or \"switch\" \n",
        "        belief = np.zeros((2, T), float)     # the probability that a certain box is in high-rewarding state,\n",
        "                                             # the beliefs on the two boxes sum up to be 1\n",
        "\n",
        "        rp = np.array([rp_low, rp_high])\n",
        "\n",
        "        for t in range(T):\n",
        "            if t == 0:\n",
        "                loc[t] = 0\n",
        "                meas[t] = 0\n",
        "                belief_0 = np.random.random(1)[0]\n",
        "                belief[:, t] = np.array([belief_0, 1 - belief_0])\n",
        "\n",
        "                act[t] = self.policy(threshold, belief[:, t], loc[t])\n",
        "\n",
        "            else:\n",
        "\n",
        "                if act[t - 1] == \"stay\":\n",
        "                    loc[t] = loc[t - 1]\n",
        "                else:  \n",
        "                    loc[t] = 1 - loc[t - 1]\n",
        "\n",
        "                # new measurement\n",
        "                meas[t] = np.random.binomial(1, rp[world_state[loc[t], t-1]])\n",
        "                belief[0, t] = self.belief_update(belief[0, t - 1] , loc[t], meas[t], p_stay)\n",
        "                belief[1, t] = 1 - belief[0, t]\n",
        "\n",
        "                act[t] = self.policy(threshold, belief[:, t], loc[t])\n",
        "\n",
        "        return belief, loc, act, meas, world_state\n",
        "    \n",
        "    def policy(self, threshold, belief, loc):\n",
        "        \"\"\"\n",
        "        This function chooses policy. \n",
        "        \"\"\"\n",
        "        if self.choose_policy == \"threshold\":\n",
        "            act = self.policy_threshold(threshold, belief, loc)\n",
        "        if self.choose_policy == \"lazy\":\n",
        "            act = self.policy_lazy(belief, loc)\n",
        "        \n",
        "        return act\n",
        "    \n",
        "    def policy_threshold(self, threshold, belief, loc):\n",
        "        \"\"\"\n",
        "        This function is the policy based on threshold\n",
        "        \"\"\"\n",
        "        ###############################################################################\n",
        "        ## Insert code to:\n",
        "        ## generate actions (Stay or Switch) for current belief and location\n",
        "        ##\n",
        "        ## Belief is a 2d vector: first element = Prob( fish on Right | measurements )\n",
        "        ##                       second element = Prob( fish on Left  | measurements )\n",
        "        ## Returns Switch if Belief that fish are in your current location < threshold\n",
        "        ###############################################################################\n",
        "        ###############################################################################\n",
        "        # Solution to be removed\n",
        "        if belief[loc]  <= threshold:\n",
        "            act = \"switch\"\n",
        "        else:\n",
        "            act = \"stay\"\n",
        "        ###############################################################################\n",
        "        # act = ....\n",
        "\n",
        "        return act\n",
        "    \n",
        "    def policy_lazy(self, belief, loc):\n",
        "        \"\"\"\n",
        "        This function is a policy where stay is also taken\n",
        "        \"\"\"\n",
        "        act = \"stay\"\n",
        "\n",
        "        return act\n",
        "    \n",
        "    def belief_update(self, belief_past, loc, meas, p_stay):\n",
        "        \"\"\"\n",
        "        using PAST belief on the LEFT box, CURRENT location and measurement to update belief\n",
        "        \"\"\"\n",
        "        rp_mat = np.array([[1 - rp_high, rp_high], [1 - rp_low, rp_low]])\n",
        "        \n",
        "        # update belief posterior, p(s[t] | meas(0-t), act(0-t-1))\n",
        "        belief_0 = (belief_past * p_stay  + (1 - belief_past) * (1 - p_stay)) * rp_mat[loc, meas]\n",
        "        belief_1 = ((1 - belief_past) * p_stay + belief_past * (1 - p_stay)) * rp_mat[1-loc, meas]\n",
        "\n",
        "        belief_0 = belief_0 / (belief_0 + belief_1)\n",
        "\n",
        "        return belief_0   \n",
        "\n",
        "    def plot_dynamics(self, belief, loc, act, meas, world_state):\n",
        "        \"Plot the dynamics of 200 time points\"\n",
        "        T = len(meas)\n",
        "\n",
        "        showlen = min(T, 200)\n",
        "        startT = 0\n",
        "\n",
        "        endT = startT + showlen\n",
        "        showT = range(startT, endT)\n",
        "        time_range = np.linspace(0, showlen - 1)\n",
        "\n",
        "        fig, [ax0, ax_loc, ax1] = plt.subplots(3, 1, figsize=(15, 6))\n",
        "        \n",
        "        ax0.plot(world_state[0, showT], color='dodgerblue', markersize=10, linewidth=3.0)\n",
        "        ax0.set_ylabel('Fish state', rotation=360, fontsize=18)\n",
        "        ax0.yaxis.set_label_coords(-0.1, 0.25)\n",
        "        ax0.set_xticks([0, showlen, showlen])\n",
        "        ax0.tick_params(axis='both', which='major', labelsize=18)\n",
        "        ax0.set_xlim([0, showlen])\n",
        "        ax0.set_ylim([0, 1.1])\n",
        "        ax0.set_yticks([0, 1])\n",
        "        ax0.tick_params(axis='both', which='major', labelsize=18)\n",
        "        labels = [item.get_text() for item in ax0.get_yticklabels()]\n",
        "        labels[0] = 'Right'\n",
        "        labels[-1] = 'Left'\n",
        "        ax0.set_yticklabels(labels)\n",
        "\n",
        "        ax1.plot(belief[0, showT], color='dodgerblue', markersize=10, linewidth=3.0)\n",
        "        ax1.plot(time_range, threshold * np.ones(time_range.shape), 'r--')\n",
        "        ax1.plot(time_range, (1 - threshold) * np.ones(time_range.shape), 'c--')\n",
        "        ax1.yaxis.set_label_coords(-0.1, 0.25)\n",
        "        ax1.set_xlabel('time', rotation=360, fontsize=18)\n",
        "        ax1.set_ylabel('Belief on \\n left', rotation=360, fontsize=18)\n",
        "        ax1.tick_params(axis='both', which='major', labelsize=18)\n",
        "        ax1.set_xlim([0, showlen])\n",
        "        ax1.set_yticks([0, 1])\n",
        "        ax1.set_ylim([0, 1.1])\n",
        "        ax1.set_xticks([0, showlen, showlen])\n",
        "        \n",
        "        ax2 = ax1.twinx()\n",
        "        \n",
        "        ax2.plot(time_range, threshold * np.ones(time_range.shape), 'r--')\n",
        "        ax2.plot(time_range, (1 - threshold) * np.ones(time_range.shape), 'c--')  \n",
        "        labels[0] = 'threshold to switch \\n from left to right'\n",
        "        labels[-1] = 'threshold to switch \\n from right to left'\n",
        "        ax2.set_yticks([threshold, 1 - threshold])\n",
        "        ax2.set_ylim([0, 1.1])\n",
        "        ax2.tick_params(axis='both', which='major', labelsize=18)\n",
        "        labels = [item.get_text() for item in ax2.get_yticklabels()]\n",
        "        ax2.set_yticklabels(labels)\n",
        "        \n",
        "        \n",
        "        act_int = (act == \"switch\" ).astype(int)\n",
        "        ax_loc.plot(1 - loc[showT], 'g.-', markersize=12, linewidth=5)\n",
        "        ax_loc.set_xlabel('time', fontsize=18)\n",
        "        ax_loc.set_ylabel('Your state', rotation=360, fontsize=18)\n",
        "        ax_loc.plot((act_int[showT] - .1) * .8, 'v', markersize=10, label = 'action')\n",
        "        ax_loc.plot(meas[showT] * .5, '*', markersize=5, label = 'reward')\n",
        "        ax_loc.legend(loc=\"upper right\", fontsize = 12)\n",
        "        ax_loc.set_xlim([0, showlen])\n",
        "        ax_loc.set_ylim([0, 1])\n",
        "        ax_loc.set_xticks([0, showlen, showlen])\n",
        "        ax_loc.tick_params(axis='both', which='major', labelsize=18)\n",
        "        labels = [item.get_text() for item in ax_loc.get_yticklabels()]\n",
        "        labels[0] = 'Right'\n",
        "        labels[-1] = 'Left'\n",
        "        ax_loc.set_yticklabels(labels)\n",
        "\n",
        "        plt.tight_layout()\n",
        "        plt.show()\n",
        "        \n",
        "    \n",
        "    def belief_histogram(self, belief, bins = 100):\n",
        "        plt.hist(belief, bins)\n",
        "        plt.show()\n",
        "\n"
      ],
      "execution_count": null,
      "outputs": []
    },
    {
      "cell_type": "markdown",
      "metadata": {
        "id": "km-ZcqKTbwSa",
        "colab_type": "text"
      },
      "source": [
        "--- \n",
        "\n",
        "* With the class defined above, create an object of `binaryHMM_belief` given parameters of the dynamic *params* and a parameter for policy. \n",
        "* The parameter for policy can be either *\"lazy\"* or *\"threshold\"*. In the following example the policy is the lazy policy. After you compelete the code for the policy based on threshold in Excercise 1, comment the line using the \"lazy\" policy, and uncomment the line with \"threshold\" policy\".\n",
        "* We have provided an example of the parameters. You can play with the parameters to see the dynamics.\n",
        "* Plot the histgram of the belief states to check the distributions."
      ]
    },
    {
      "cell_type": "code",
      "metadata": {
        "id": "yM10G8yw3k8E",
        "colab_type": "code",
        "colab": {}
      },
      "source": [
        "T = 10000\n",
        "\n",
        "p_stay = .95     # probability fish stay\n",
        "rp_high = .4    # p(catch fish) when you're on their side\n",
        "rp_low = .1     # p(catch fish) when you're on other side\n",
        "\n",
        "threshold = .2    # threshold of belief below which switching is taken\n",
        "\n",
        "params = [T, p_stay, rp_high, rp_low, threshold]\n",
        "\n",
        "#binaryHMM_test = binaryHMM_belief(params, choose_policy=\"lazy\")\n",
        "binaryHMM_test = binaryHMM_belief(params, choose_policy=\"threshold\")\n"
      ],
      "execution_count": null,
      "outputs": []
    },
    {
      "cell_type": "code",
      "metadata": {
        "id": "tn7LY7ab3k8H",
        "colab_type": "code",
        "colab": {
          "base_uri": "https://localhost:8080/",
          "height": 441
        },
        "outputId": "3ec42301-91f0-473c-8a13-6e47d08f4616"
      },
      "source": [
        "\"\"\"\n",
        "Plot the dynamics of the binaryHMM task\n",
        "\"\"\"\n",
        "belief, loc, act, meas, world_state = binaryHMM_test.generateProcess()\n",
        "binaryHMM_test.plot_dynamics(belief, loc, act, meas, world_state)"
      ],
      "execution_count": null,
      "outputs": [
        {
          "output_type": "display_data",
          "data": {
            "image/png": "[encoded data removed]",
            "text/plain": [
              "<Figure size 1080x432 with 4 Axes>"
            ]
          },
          "metadata": {
            "tags": [],
            "needs_background": "light"
          }
        }
      ]
    },
    {
      "cell_type": "code",
      "metadata": {
        "id": "EEk-jNr_3k8K",
        "colab_type": "code",
        "colab": {
          "base_uri": "https://localhost:8080/",
          "height": 265
        },
        "outputId": "e1a1e276-ee03-4f8f-b0fa-8b495866881c"
      },
      "source": [
        "\"\"\"\n",
        "Check the distribution of beliefs.\n",
        "\"\"\"\n",
        "binaryHMM_test.belief_histogram(belief[0, :]) # histgram of the belief on the left box"
      ],
      "execution_count": null,
      "outputs": [
        {
          "output_type": "display_data",
          "data": {
            "image/png": "[encoded data removed]",
            "text/plain": [
              "<Figure size 432x288 with 1 Axes>"
            ]
          },
          "metadata": {
            "tags": [],
            "needs_background": "light"
          }
        }
      ]
    },
    {
      "cell_type": "markdown",
      "metadata": {
        "id": "c0xB3OaT3k8M",
        "colab_type": "text"
      },
      "source": [
        "### Exercise 3: Value function \n",
        "Now we have generated behavioral for a parameterized policy. Let's calculate the value of that policy. \n",
        "\n",
        "Specifically, here the value is total expected utility per unit time.\n",
        "\n",
        "$$V(\\theta) = \\frac{1}{T}\\left(\\sum_t U_s(s_t) + U_a(a_t)\\right)$$ \n",
        "\n",
        "where $U_s(s_t)$ is the instataneous utility from the site, and $U_a(a_t)$ is the negative cost for switching.\n",
        "\n",
        "**Suggestions**\n",
        "* Fill in the function `value_function(meas, act, cost_sw)` given a sequence of measurements, actions, and the cost of switching. "
      ]
    },
    {
      "cell_type": "code",
      "metadata": {
        "id": "pQ67J0kC3k8N",
        "colab_type": "code",
        "colab": {}
      },
      "source": [
        "def value_function(meas, act, cost_sw):\n",
        "    \"\"\"\n",
        "    value function \n",
        "    \"\"\"\n",
        "    act_int = (act == \"switch\" ).astype(int)       # convert labels to binary\n",
        "    T = len(meas)   \n",
        "\n",
        "    ###############################################################################\n",
        "    ## Insert your code here to:\n",
        "    ##        compute the value function\n",
        "    ###############################################################################\n",
        "    ###############################################################################\n",
        "    # Solution to be removed\n",
        "    value = (np.sum(meas) - np.sum(act_int) * cost_sw) / T     # rate of catching fish - costs\n",
        "    ###############################################################################\n",
        "\n",
        "    #value = ...     # rate of catching fish - costs\n",
        "\n",
        "    return value"
      ],
      "execution_count": null,
      "outputs": []
    },
    {
      "cell_type": "markdown",
      "metadata": {
        "id": "IwHHQ1Nu3k8P",
        "colab_type": "text"
      },
      "source": [
        "### Exercise 4: Utility function vs threshold \n",
        "Let's find the threshold that yields the highest total value. We have provided code for plotting value versus threshold. You can then find the threshold $\\theta^*$ with the highest value, i.e. the policy that gives optimal control.\n",
        "\n",
        "After that, change the other parameters and explore the resultant values. \n",
        "\n",
        "\n"
      ]
    },
    {
      "cell_type": "code",
      "metadata": {
        "id": "y_oKA-PY3k8P",
        "colab_type": "code",
        "colab": {}
      },
      "source": [
        "# Brute force search for optimal policy: what is the best threshold?\n",
        "# This function is needed for the second exercise.\n",
        "\n",
        "def value_threshold(params, cost_sw, step):\n",
        "    threshold_array = np.arange(0, 1 + step, step)\n",
        "    value_array = np.zeros(threshold_array.shape)\n",
        "    \n",
        "    T, p_stay, rp_high, rp_low, _ = params\n",
        "    \n",
        "    for i in range(len(threshold_array)):\n",
        "        threshold = threshold_array[i]\n",
        "        \n",
        "        params = [T, p_stay, rp_high, rp_low, threshold]\n",
        "        binaryHMM_test = binaryHMM_belief(params, choose_policy=\"threshold\")\n",
        "        belief, loc, act, meas, world_state = binaryHMM_test.generateProcess()\n",
        "        \n",
        "        value_array[i] = value_function(meas, act, cost_sw)\n",
        "    \n",
        "    return threshold_array, value_array\n",
        "\n",
        "def plot_value_threshold(params, cost_sw, step = 0.05):\n",
        "    threshold_array, value_array = value_threshold(params, cost_sw, step)\n",
        "\n",
        "    fig_, ax = plt.subplots(1, 1, figsize=(6, 6))\n",
        "    ax.plot(threshold_array, value_array)\n",
        "    ax.set_ylim([np.min(value_array), np.max(value_array)])\n",
        "    ax.set_title('threshold vs value with switching cost c = %.2f'%cost_sw, fontsize = 20)\n",
        "    ax.set_xlabel('threshold', fontsize = 16)\n",
        "    ax.set_ylabel('value', fontsize = 16)\n",
        "    plt.show()"
      ],
      "execution_count": null,
      "outputs": []
    },
    {
      "cell_type": "code",
      "metadata": {
        "id": "ogYtf9Z83k8R",
        "colab_type": "code",
        "colab": {}
      },
      "source": [
        "T = 10000\n",
        "p_stay = .95          # state transiton probability\n",
        "rp_high = .4\n",
        "rp_low = .1\n",
        "\n",
        "cost_sw = 3"
      ],
      "execution_count": null,
      "outputs": []
    },
    {
      "cell_type": "code",
      "metadata": {
        "scrolled": true,
        "id": "_jKH5ccQ3k8U",
        "colab_type": "code",
        "colab": {
          "base_uri": "https://localhost:8080/",
          "height": 414
        },
        "outputId": "55efb3ac-0bf2-429d-f379-5d3893f3fed5"
      },
      "source": [
        "params = [T, p_stay, rp_high, rp_low, _]\n",
        "plot_value_threshold(params, cost_sw)"
      ],
      "execution_count": null,
      "outputs": [
        {
          "output_type": "display_data",
          "data": {
            "image/png": "[encoded data removed]",
            "text/plain": [
              "<Figure size 432x432 with 1 Axes>"
            ]
          },
          "metadata": {
            "tags": [],
            "needs_background": "light"
          }
        }
      ]
    }
  ]
}