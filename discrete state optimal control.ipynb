{
 "cells": [
  {
   "cell_type": "code",
   "execution_count": 53,
   "metadata": {},
   "outputs": [],
   "source": [
    "import numpy as np\n",
    "import matplotlib.pyplot as plt"
   ]
  },
  {
   "cell_type": "code",
   "execution_count": 2,
   "metadata": {},
   "outputs": [],
   "source": [
    "T = 200"
   ]
  },
  {
   "cell_type": "code",
   "execution_count": 45,
   "metadata": {},
   "outputs": [],
   "source": [
    "world_state = np.zeros(T, int)   #0: the first box has food; 1: second box has food\n",
    "loc = np.zeros(T, int)        #0: first box               1: second box\n",
    "obs = np.zeros(T, int)        #0: did not get food        1: get food\n",
    "act = np.zeros(T, int)        #0 : stay                   1: switch and get food from the other side\n",
    "bel = np.zeros(T, float)        # the probability that the first box has food, \n",
    "                         # then the probability that the second box has food is 1-b\n",
    "\n",
    "threshold = .6\n",
    "p_01 = .3\n",
    "p_10 = .4\n",
    "p = np.array([p_01, 1-p_10]) # probability 0->1, 1->1\n",
    "Tr = np.array([[1 - p_01, p_10], [p_01, 1-p_10]])"
   ]
  },
  {
   "cell_type": "code",
   "execution_count": 46,
   "metadata": {},
   "outputs": [],
   "source": [
    "def policy(threshold, bel, loc):\n",
    "    if loc == 0:\n",
    "        if bel >= threshold:\n",
    "            act = 1\n",
    "        else:\n",
    "            act = 0\n",
    "    else: #loc = 1\n",
    "        if 1 - bel >= threshold:\n",
    "            act = 1\n",
    "        else:\n",
    "            act = 0\n",
    "    \n",
    "    return act"
   ]
  },
  {
   "cell_type": "code",
   "execution_count": 49,
   "metadata": {},
   "outputs": [],
   "source": [
    "for t in range(T):\n",
    "    if t == 0:\n",
    "        world_state[t] = 0\n",
    "        loc[t] = 0\n",
    "        obs[t] = 0\n",
    "        bel[t] = np.random.random(1)\n",
    "        \n",
    "        act[t] = policy(threshold, bel[t], loc[t])\n",
    "        \n",
    "    else:\n",
    "        if act[t - 1] == 0:\n",
    "            world_state[t] = np.random.binomial(1, p[world_state[t-1]])\n",
    "            loc[t] = loc[t-1]\n",
    "            obs[t] = 0\n",
    "            bel[t] = Tr.dot(np.array([bel[t-1], 1- bel[t-1]]))[0]\n",
    "        else: #after weitching, open the new box, deplete if any; then wait a usualy time\n",
    "            loc[t] = 1 - loc[t-1]\n",
    "            if world_state[t - 1] == loc[t]:\n",
    "                obs[t] = 1\n",
    "            else:\n",
    "                obs[t] = 0\n",
    "            \n",
    "            world_state[t] = 1 - loc[t]\n",
    "            bel[t] = loc[t]\n",
    "            # with swtiching and open action, if loc = 0, 1st box empty, 2nd filled. s = 1; vice versa\n",
    "            \n",
    "            #update beleif and state for a usual waiting time\n",
    "            world_state[t] = np.random.binomial(1, p[world_state[t]])\n",
    "            bel[t] = Tr.dot(np.array([bel[t], 1- bel[t]]))[0]\n",
    "        "
   ]
  },
  {
   "cell_type": "code",
   "execution_count": 71,
   "metadata": {},
   "outputs": [
    {
     "data": {
      "image/png": "[encoded data removed]",
      "text/plain": [
       "<Figure size 1080x720 with 3 Axes>"
      ]
     },
     "metadata": {},
     "output_type": "display_data"
    }
   ],
   "source": [
    "showlen = 100\n",
    "startT = 0 \n",
    "\n",
    "endT = startT + showlen\n",
    "showT = range(startT,endT)\n",
    "\n",
    "fig_posterior, [ax1, ax_loc, ax2] = plt.subplots(3, 1, figsize= (15, 10))\n",
    "\n",
    "ax1.plot(bel[showT], color = 'dodgerblue', markersize = 10,linewidth=3.0)\n",
    "ax1.yaxis.set_label_coords(-0.1,0.25)\n",
    "ax1.set_ylabel('Marginal belief \\n about box 1', rotation= 360, fontsize = 22)\n",
    "ax1.set_xticks([])\n",
    "ax1.tick_params(axis='both', which='major', labelsize=18)\n",
    "\n",
    "\n",
    "\n",
    "#ax_loc = plt.subplot(gs1[2])\n",
    "#ax_loc = fig_posterior.add_subplot(513)\n",
    "ax_loc.plot(loc[showT], 'g.-', markersize = 12, linewidth = 5)\n",
    "#ax_loc.plot((np.remainder(loc[showT]+1, 3) - 1 ) * 10, 'm-')\n",
    "ax_loc.plot(act[showT],'v', markersize = 5)\n",
    "# ax_loc.plot(rew[showT] * 9, 'c*')\n",
    "# box1_r = act[showT] // 4 * 7 * np.remainder(loc[showT]+1, 3) * np.insert(rew[showT][1:], -1, 0) * 1.0 \n",
    "# box2_r = act[showT] // 4 * 7 * (np.remainder(loc[showT]+1, 3) - 2) * np.insert(rew[showT][1:], -1, 0) * 1.0\n",
    "# box1_n = act[showT] // 4 * 7 * np.remainder(loc[showT]+1, 3) * (1-np.insert(rew[showT][1:], -1, 0))* 1.0 * (loc[showT] != 0)\n",
    "# box2_n = act[showT] // 4 * 7 * ((np.remainder(loc[showT]+1, 3) - 2) * (1-np.insert(rew[showT][1:], -1, 0)))* 1.0 * (loc[showT] != 0)\n",
    "# box1_r[ box1_r==0 ] = np.nan\n",
    "# box2_n[ box2_n==0 ] = np.nan\n",
    "# box2_r[ box2_r==0 ] = np.nan\n",
    "# box1_n[ box1_n==0 ] = np.nan\n",
    "# ax_loc.plot(box2_r, '^', c = 'red', markersize = 15)\n",
    "# ax_loc.plot(box1_n, 'v', c = 'blue', markersize = 15)\n",
    "# ax_loc.plot(box2_n, '^', c = 'blue', markersize = 15)\n",
    "# ax_loc.plot(box1_r, 'v', c = 'red', markersize = 15)\n",
    "\n",
    "ax_loc.set_xlim([0,showlen])\n",
    "# ax_loc.spines['top'].set_visible(False)\n",
    "# ax_loc.spines['right'].set_visible(False)\n",
    "# ax_loc.spines['bottom'].set_visible(False)\n",
    "# ax_loc.spines['left'].set_visible(False)\n",
    "#ax_loc.set_ylim([1,16])\n",
    "ax_loc.set_yticks([])\n",
    "ax_loc.set_xticks([])\n",
    "\n",
    "\n",
    "\n",
    "#ax2 = plt.subplot(gs1[4])\n",
    "#ax2 = fig_posterior.add_subplot(515)\n",
    "#ax2.imshow(belief2_est[showT].T, interpolation='Nearest', cmap='gray', origin='lower',aspect='auto')\n",
    "ax2.plot(1 - bel[showT], color = 'dodgerblue', markersize = 10,linewidth=3.0)\n",
    "#ax2.set(title = 'belief of box 2 based on estimated parameters')\n",
    "ax2.set_xlabel('time', fontsize = 18)\n",
    "#ax2.get_yaxis().labelpad = 70\n",
    "ax2.yaxis.set_label_coords(-0.1,0.25)\n",
    "ax2.set_ylabel('Marginal belief \\n about box 2', rotation= 360, fontsize = 22)\n",
    "ax2.set_xticks([0, 5,10,15,20])\n",
    "ax2.tick_params(axis='both', which='major', labelsize=18)\n",
    "#ax2.set_yticks([0, nq-1])\n",
    "#ax2.set_yticklabels(['0','1'])\n",
    "\n",
    "\n",
    "# #ax4 = plt.subplot(gs1[3])\n",
    "# #ax4 = fig_posterior.add_subplot(514)\n",
    "# ax4.imshow(np.tile(col2[showT], (3,1)), cmap = cmap_col5,vmin=0, vmax=Ncol)\n",
    "# #ax4.get_yaxis().labelpad = 70\n",
    "# ax4.yaxis.set_label_coords(-0.1,0)\n",
    "# ax4.set_ylabel('box 2 color', color = 'slateblue', rotation= 360, fontsize = 22)\n",
    "# ax4.set_xticks([])\n",
    "# ax4.set_yticks([])\n",
    "# ax4.spines['top'].set_visible(False)\n",
    "# ax4.spines['right'].set_visible(False)\n",
    "# ax4.spines['bottom'].set_visible(False)\n",
    "# ax4.spines['left'].set_visible(False)\n",
    "\n",
    "# plt.tight_layout()\n",
    "plt.show()\n"
   ]
  }
 ],
 "metadata": {
  "kernelspec": {
   "display_name": "Python 3",
   "language": "python",
   "name": "python3"
  },
  "language_info": {
   "codemirror_mode": {
    "name": "ipython",
    "version": 3
   },
   "file_extension": ".py",
   "mimetype": "text/x-python",
   "name": "python",
   "nbconvert_exporter": "python",
   "pygments_lexer": "ipython3",
   "version": "3.6.5"
  }
 },
 "nbformat": 4,
 "nbformat_minor": 2
}
