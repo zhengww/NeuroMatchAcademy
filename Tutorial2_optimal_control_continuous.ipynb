{
 "cells": [
  {
   "cell_type": "markdown",
   "metadata": {
    "colab_type": "text",
    "id": "FdNoX-pa3k7x"
   },
   "source": [
    "# Tutorial 2- Optimal Control for Continuous State\n",
    "\n",
    "Please execute the cell below to initialize the notebook environment."
   ]
  },
  {
   "cell_type": "code",
   "execution_count": 1,
   "metadata": {
    "colab": {},
    "colab_type": "code",
    "id": "2T2eacv13k7z"
   },
   "outputs": [],
   "source": [
    "import numpy as np                 # import numpy\n",
    "import scipy               # import scipy\n",
    "import random                      # import basic random number generator functions\n",
    "from scipy.linalg import inv\n",
    "\n",
    "import matplotlib.pyplot as plt    # import matplotlib"
   ]
  },
  {
   "cell_type": "markdown",
   "metadata": {
    "colab_type": "text",
    "id": "RYqoaTCk3k76"
   },
   "source": [
    "---\n",
    "\n",
    "## Tutorial objectives\n",
    "\n",
    "In this tutorial, we will implement the linear qudratic regulator (LQR) in 1D case."
   ]
  },
  {
   "cell_type": "markdown",
   "metadata": {
    "colab_type": "text",
    "id": "_KKRwWuo3k78"
   },
   "source": [
    "---\n",
    "\n",
    "## Quadratic cost function \n",
    "\n",
    "In general, a linear discrete-time system with noise has the dynamic:\n",
    "\n",
    "\\begin{equation*}\n",
    "x_{t+1} = Dx_t + Ba_t + w_t \n",
    "\\end{equation*}\n",
    "\n",
    "with \n",
    "\n",
    "$x_t$: state at time $t$ \n",
    "\n",
    "$a_t$: control at time $t$\n",
    "\n",
    "$w_t$: noise at time $t$\n",
    "\n",
    "$D$ and $B$: parameters of the linear dynamical system  \n",
    "\n",
    "For 1D case, $D$, $B$, $Q$, $R$ are all scalars.\n",
    "\n",
    "In LQR problem,  a quadratic cost function is defined as: \n",
    "\n",
    "$$ J(x, a) = \\sum_{t = 0}^{T-1} (Q x_{t}^2 + R a_{t}^2) + Q_T x_{T}^2$$\n",
    "\n",
    "where $Q$ and $Q_N$ are the state cost matrices, and $R$ is the control cost matrix. \n",
    "\n",
    "\n",
    "\n",
    "The goal of the LQR problem is to find control $\\{a_t\\}_{t=0}^{T-1}$ such that $J(x, u)$ is minimized. For 1D case specially, the goal is then to find the control gain at each time point, i,.e.\n",
    "\n",
    "$$ \\text{argmin} _{K_t}  J(x, a) $$ \n",
    "\n",
    "where $a_t = K_t x_t$."
   ]
  },
  {
   "cell_type": "markdown",
   "metadata": {
    "colab_type": "text",
    "id": "_E6RfR5w3k79"
   },
   "source": [
    "### Exercise 1: Control to the origin\n",
    "\n",
    "In this exercise, we will use a time-invariant control to test the trajectory of the states and cost. \n",
    "\n",
    "For simplicity, we will apply the LQR control on a 1D case, where the matrices reduce to scalars, and the states, control and noise are one-dimensional as well. \n",
    "\n",
    "** Suggestions **\n",
    "* In function `dynamics_zero_state( )`, complete the code for control *a*, and use that complete the dynamical updating function for state *x*.\n",
    "* Set the controller gain to be a constant over time. You can play with this parameter to compare the dynamics and cost. \n",
    "* Compute the mean square error (MSE) of the states with control and the target states (zero state in the case). \n",
    "* With the provided plotting functions, plot the states over time with a particular controller, the histogram of deviation from the zero state, etc.\n",
    "\n"
   ]
  },
  {
   "cell_type": "code",
   "execution_count": 2,
   "metadata": {
    "colab": {},
    "colab_type": "code",
    "id": "kIxSv_uZ3k7-"
   },
   "outputs": [],
   "source": [
    "class LDS_1D:\n",
    "    def __init__(self, T, ini_state, noise_var, target):\n",
    "        self.T = T\n",
    "        self.target = target\n",
    "        self.ini_state = ini_state\n",
    "        self.noise_var = noise_var\n",
    "    \n",
    "    \n",
    "    def dynamics_zero_state(self, D, B, Q, R, L):\n",
    "        #l = self.control_gain_LQR(D, B, Q, R)\n",
    "        \n",
    "        x = np.zeros(self.T) # states intialization\n",
    "        x[0] = self.ini_state\n",
    "\n",
    "        noise = np.random.normal(0, self.noise_var, self.T)\n",
    "        \n",
    "        a = np.zeros(self.T) # control intialization\n",
    "\n",
    "        for t in range(self.T - 1):\n",
    "            a[t] =  - L[t] * x[t] \n",
    "            x[t + 1] = D * x[t] + B * a[t] + noise[t]\n",
    "        \n",
    "        return a, x\n",
    "    \n",
    "    def cost(self, x, a, Q, R):\n",
    "        return np.sum(Q*np.sum(np.square(x)) + R * np.sum(np.square(a)))\n",
    "        \n",
    "    def MSE(self, x):\n",
    "        mse = np.square(x - self.target)\n",
    "        return mse\n",
    "    \n",
    "    def plot_MSE(self, x):\n",
    "        mse = self.MSE(x)\n",
    "        \n",
    "        fig, ax = plt.subplots(1, figsize = (6, 6))\n",
    "        ax.plot(mse, 'b')\n",
    "        ax.set_xlabel(\"time\", fontsize =14)\n",
    "        ax.set_ylabel(\"MSE\" , fontsize =14)\n",
    "        ax.set_title(\"MSE of the states and the desired trajectory\", fontsize =20)\n",
    "            \n",
    "    def plot_control(self, u):\n",
    "        ig, ax = plt.subplots(1, figsize = (6, 6))\n",
    "        ax.plot(u, 'b')\n",
    "        ax.set_xlabel(\"time\", fontsize =14)\n",
    "        ax.set_ylabel(\"control\" , fontsize =14)\n",
    "        ax.set_title(\"control over time\", fontsize =20)\n",
    "        \n",
    "    def plot_position(self, x):        \n",
    "        fig, ax = plt.subplots(1, figsize = (6, 6))\n",
    "        ax.plot(x, 'b', label = 'state with control')\n",
    "        #ax.plot(x_tilde, 'g', label = 'state without control')\n",
    "        ax.plot(self.target, 'm', label = 'target state')\n",
    "        ax.set_xlabel(\"time\", fontsize =14)\n",
    "        ax.set_ylabel(\"state\" , fontsize =14)\n",
    "        ax.set_title(\"tacking state\", fontsize =20)\n",
    "        ax.legend(loc=\"upper right\")\n",
    "        \n",
    "    def plot_hist(self, x):        \n",
    "        fig, ax = plt.subplots(1, figsize = (6, 6))\n",
    "#         ax.hist([x - self.target, x_tilde - self.target], color = ['b', 'g'],\n",
    "#                label = ['with control', 'without control'])\n",
    "        ax.hist(x - self.target, color ='b')\n",
    "        ax.set_ylabel(\"count\" , fontsize =14)\n",
    "        ax.set_title(\"histgram of error\", fontsize =20)\n",
    "        \n",
    "    "
   ]
  },
  {
   "cell_type": "code",
   "execution_count": 3,
   "metadata": {
    "colab_type": "text",
    "id": "MSakPQ763k8D"
   },
   "outputs": [],
   "source": [
    "D = 1   # state parameter \n",
    "B = 1   # control parameter\n",
    "Q = 1   # cost of state\n",
    "R = 1   # cost of control\n",
    "T = 10  # time horizon\n",
    "ini_state = 4      # initial state\n",
    "noise_var = 0.2   # process noise"
   ]
  },
  {
   "cell_type": "code",
   "execution_count": 4,
   "metadata": {
    "colab": {},
    "colab_type": "code",
    "id": "yM10G8yw3k8E"
   },
   "outputs": [],
   "source": [
    "target = np.zeros(T)\n",
    "lds_zero = LDS_1D(T, ini_state, noise_var, target)\n",
    "L =  np.ones(T) * .5\n",
    "a, x = lds_zero.dynamics_zero_state(D, B, Q, R, L)"
   ]
  },
  {
   "cell_type": "code",
   "execution_count": 5,
   "metadata": {
    "colab": {},
    "colab_type": "code",
    "id": "tn7LY7ab3k8H"
   },
   "outputs": [
    {
     "data": {
      "image/png": "[encoded data removed]",
      "text/plain": [
       "<Figure size 432x432 with 1 Axes>"
      ]
     },
     "metadata": {
      "needs_background": "light"
     },
     "output_type": "display_data"
    }
   ],
   "source": [
    "lds_zero.plot_control(a)"
   ]
  },
  {
   "cell_type": "code",
   "execution_count": 6,
   "metadata": {},
   "outputs": [
    {
     "data": {
      "image/png": "[encoded data removed]",
      "text/plain": [
       "<Figure size 432x432 with 1 Axes>"
      ]
     },
     "metadata": {
      "needs_background": "light"
     },
     "output_type": "display_data"
    }
   ],
   "source": [
    "lds_zero.plot_hist(x)"
   ]
  },
  {
   "cell_type": "code",
   "execution_count": 7,
   "metadata": {},
   "outputs": [
    {
     "data": {
      "image/png": "[encoded data removed]",
      "text/plain": [
       "<Figure size 432x432 with 1 Axes>"
      ]
     },
     "metadata": {
      "needs_background": "light"
     },
     "output_type": "display_data"
    }
   ],
   "source": [
    "lds_zero.plot_position(x)"
   ]
  },
  {
   "cell_type": "code",
   "execution_count": 8,
   "metadata": {},
   "outputs": [
    {
     "data": {
      "image/png": "[encoded data removed]",
      "text/plain": [
       "<Figure size 432x432 with 1 Axes>"
      ]
     },
     "metadata": {
      "needs_background": "light"
     },
     "output_type": "display_data"
    }
   ],
   "source": [
    "lds_zero.plot_MSE(x)"
   ]
  },
  {
   "cell_type": "code",
   "execution_count": 9,
   "metadata": {},
   "outputs": [
    {
     "data": {
      "text/plain": [
       "24.77396695865066"
      ]
     },
     "execution_count": 9,
     "metadata": {},
     "output_type": "execute_result"
    }
   ],
   "source": [
    "lds_zero.cost(x, a, Q, R)"
   ]
  },
  {
   "cell_type": "code",
   "execution_count": 10,
   "metadata": {
    "colab": {
     "base_uri": "https://localhost:8080/",
     "height": 374
    },
    "colab_type": "code",
    "id": "EEk-jNr_3k8K",
    "outputId": "94af73fd-76d6-47f8-ba1e-d7da92e04ba8"
   },
   "outputs": [
    {
     "data": {
      "image/png": "[encoded data removed]",
      "text/plain": [
       "<Figure size 432x432 with 1 Axes>"
      ]
     },
     "metadata": {
      "needs_background": "light"
     },
     "output_type": "display_data"
    }
   ],
   "source": [
    "control_gain_array = np.linspace(.2,1,30)\n",
    "cost_array = np.zeros(control_gain_array.shape)\n",
    "for i in range(len(control_gain_array)):\n",
    "    target = np.zeros(T)\n",
    "    lds_zero = LDS_1D(T, ini_state, noise_var, target)\n",
    "    L =  np.ones(T) * control_gain_array[i]\n",
    "    a, x = lds_zero.dynamics_zero_state(D, B, Q, R, L)\n",
    "    cost_array[i] = lds_zero.cost(x, a, Q, R)\n",
    "\n",
    "fig, ax = plt.subplots(1, figsize = (6, 6))\n",
    "ax.plot(control_gain_array, cost_array, 'b')\n",
    "ax.set_xlabel(\"control gain\", fontsize =14)\n",
    "ax.set_ylabel(\"total cost\" , fontsize =14)\n",
    "ax.set_title(\"cost vs constant control gain\", fontsize =20)\n",
    "plt.show()"
   ]
  },
  {
   "cell_type": "markdown",
   "metadata": {
    "colab_type": "text",
    "id": "c0xB3OaT3k8M"
   },
   "source": [
    "# LQR"
   ]
  },
  {
   "cell_type": "markdown",
   "metadata": {},
   "source": [
    "---\n",
    "\n",
    "## Solving LQR with Dynamic Programming\n",
    "\n",
    "The solution of LQR can be obtained via Dynamic Programming as follows:\n",
    "1. set $P_T = Q_T$\n",
    "2. for $t = T ,...,1$,\n",
    "\n",
    "    $P_{t-1}  = Q + A^TP_tA - A^TP_tB(R+B^TP_tB)^{-1}B^TP_tA$\n",
    "\n",
    "3. update the control gain\n",
    "   \n",
    "   for $t = T ,...,1$,\n",
    "\n",
    "    $K^{lqg}_{t-1}  = (R+B^TP_tB)^{-1}B^TP_tA$\n",
    "\n",
    "4. optimal gain at time $t$ is: $a_t = - K^{lqg}_tx_t$\n",
    "\n"
   ]
  },
  {
   "cell_type": "markdown",
   "metadata": {},
   "source": [
    "### Exercise 2: LQR to the origin \n",
    "\n",
    "In this exercise, we will design an LQR control for original states, i.e. the state should be zero at all the time. \n",
    "\n",
    "** Suggestions **\n",
    "* We have provided the code in function control_gain( ) for updating *P* iteratively as introduced above. Complete the function to update control gain. Note all the parameters are scalar, and regular math operation should be used instead of numpy matrix operation. \n",
    "* Apply the LQR controller, and plot the trajectory of states. "
   ]
  },
  {
   "cell_type": "code",
   "execution_count": 11,
   "metadata": {
    "colab": {},
    "colab_type": "code",
    "id": "pQ67J0kC3k8N"
   },
   "outputs": [],
   "source": [
    "class LQR_1D(LDS_1D):\n",
    "    def __init__(self, T, ini_state, noise_var, target):\n",
    "        super().__init__(T, ini_state, noise_var, target)\n",
    "    \n",
    "    \n",
    "    def control_gain_LQR(self, D, B, Q, R):\n",
    "\n",
    "        P = np.zeros(self.T) # Riccati updates\n",
    "        P[-1] = Q  \n",
    "        \n",
    "        L = np.zeros(self.T) # control gain \n",
    "        \n",
    "        for t in range(self.T-1):\n",
    "            P[self.T - t - 2] = (Q + \n",
    "                            P[self.T - t - 1] * D **2 - \n",
    "                            D * P[self.T - t - 1] * B / (\n",
    "                                R + P[self.T - t - 1] * B) * B ** 2 * P[self.T - t - 1] * D)\n",
    "\n",
    "            L[self.T - t - 2] =  (1 / (R + P[self.T - t - 1] * B ** 2) * B * P[self.T - t - 1] * D) \n",
    "        \n",
    "        return L\n",
    "    "
   ]
  },
  {
   "cell_type": "code",
   "execution_count": 12,
   "metadata": {},
   "outputs": [
    {
     "data": {
      "image/png": "[encoded data removed]",
      "text/plain": [
       "<Figure size 432x432 with 1 Axes>"
      ]
     },
     "metadata": {
      "needs_background": "light"
     },
     "output_type": "display_data"
    }
   ],
   "source": [
    "lqr_zero = LQR_1D(T, ini_state, noise_var, target)\n",
    "L =lqr_zero.control_gain_LQR(D, B, Q, R)\n",
    "a, x = lds_zero.dynamics_zero_state(D, B, Q, R, L)\n",
    "lds_zero.plot_position(x)"
   ]
  },
  {
   "cell_type": "code",
   "execution_count": 13,
   "metadata": {},
   "outputs": [
    {
     "data": {
      "image/png": "[encoded data removed]",
      "text/plain": [
       "<Figure size 432x432 with 1 Axes>"
      ]
     },
     "metadata": {
      "needs_background": "light"
     },
     "output_type": "display_data"
    }
   ],
   "source": [
    "control_gain_array = np.linspace(0,1,30)\n",
    "cost_array = np.zeros(control_gain_array.shape)\n",
    "for i in range(len(control_gain_array)):\n",
    "    target = np.zeros(T)\n",
    "    lds_zero = LDS_1D(T, ini_state, noise_var, target)\n",
    "    L =  np.ones(T) * control_gain_array[i]\n",
    "    a, x = lds_zero.dynamics_zero_state(D, B, Q, R, L)\n",
    "    cost_array[i] = lds_zero.cost(x, a, Q, R)\n",
    "    \n",
    "    lqr_zero = LQR_1D(T, ini_state, noise_var, target)\n",
    "    L =lqr_zero.control_gain_LQR(D, B, Q, R)\n",
    "    a, x = lds_zero.dynamics_zero_state(D, B, Q, R, L)\n",
    "    c = lds_zero.cost(x, a, Q, R)\n",
    "\n",
    "\n",
    "fig, ax = plt.subplots(1, figsize = (6, 6))\n",
    "ax.plot(control_gain_array, cost_array, 'b')\n",
    "ax.plot(control_gain_array, np.ones(cost_array.shape) * c, 'r')\n",
    "ax.set_xlabel(\"control gain\", fontsize =14)\n",
    "ax.set_ylabel(\"total cost\" , fontsize =14)\n",
    "ax.set_title(\"cost vs constant control gain\", fontsize =20)\n",
    "plt.show()"
   ]
  },
  {
   "cell_type": "code",
   "execution_count": 14,
   "metadata": {},
   "outputs": [
    {
     "data": {
      "image/png": "[encoded data removed]",
      "text/plain": [
       "<Figure size 432x288 with 1 Axes>"
      ]
     },
     "metadata": {
      "needs_background": "light"
     },
     "output_type": "display_data"
    }
   ],
   "source": [
    "plt.plot(lqr_zero.control_gain_LQR(D, B, Q, R))\n",
    "plt.xlabel('time')\n",
    "plt.ylabel('LQR control gain')\n",
    "plt.show()"
   ]
  },
  {
   "cell_type": "code",
   "execution_count": 15,
   "metadata": {},
   "outputs": [],
   "source": [
    "# cost_to_go = []\n",
    "\n",
    "# for t in range(T):\n",
    "#     cost_to_go.append(Q * np.sum(np.square(x[t:])) + R * np.sum(np.square(a[t:])))"
   ]
  },
  {
   "cell_type": "code",
   "execution_count": 16,
   "metadata": {},
   "outputs": [
    {
     "data": {
      "image/png": "[encoded data removed]",
      "text/plain": [
       "<Figure size 432x288 with 1 Axes>"
      ]
     },
     "metadata": {
      "needs_background": "light"
     },
     "output_type": "display_data"
    }
   ],
   "source": [
    "# plt.plot(cost_to_go)\n",
    "# plt.xlabel('time')\n",
    "# plt.ylabel('cost to go')\n",
    "# plt.show()"
   ]
  },
  {
   "cell_type": "code",
   "execution_count": 17,
   "metadata": {},
   "outputs": [
    {
     "data": {
      "text/plain": [
       "[25.987660966176627,\n",
       " 3.876205292135894,\n",
       " 0.4197343816596462,\n",
       " 0.10359562438384298,\n",
       " 0.09269832640757969,\n",
       " 0.08991769363609015,\n",
       " 0.0786949002572657,\n",
       " 0.07629930227665278,\n",
       " 0.0555235704773405,\n",
       " 0.014026396790581373]"
      ]
     },
     "execution_count": 17,
     "metadata": {},
     "output_type": "execute_result"
    }
   ],
   "source": [
    "cost = np.ones(T)\n",
    "cost[-1] = Q\n"
   ]
  },
  {
   "cell_type": "code",
   "execution_count": 18,
   "metadata": {},
   "outputs": [
    {
     "ename": "NameError",
     "evalue": "name 'pause' is not defined",
     "output_type": "error",
     "traceback": [
      "\u001b[0;31m---------------------------------------------------------------------------\u001b[0m",
      "\u001b[0;31mNameError\u001b[0m                                 Traceback (most recent call last)",
      "\u001b[0;32m<ipython-input-18-34d6930c0341>\u001b[0m in \u001b[0;36m<module>\u001b[0;34m\u001b[0m\n\u001b[0;32m----> 1\u001b[0;31m \u001b[0mpause\u001b[0m\u001b[0;34m\u001b[0m\u001b[0;34m\u001b[0m\u001b[0m\n\u001b[0m",
      "\u001b[0;31mNameError\u001b[0m: name 'pause' is not defined"
     ]
    }
   ],
   "source": [
    "pause"
   ]
  },
  {
   "cell_type": "code",
   "execution_count": null,
   "metadata": {},
   "outputs": [],
   "source": [
    "L"
   ]
  },
  {
   "cell_type": "code",
   "execution_count": null,
   "metadata": {},
   "outputs": [],
   "source": [
    "lqr_cost_array = [] \n",
    "cost_array_N = []\n",
    "n_iter = 60\n",
    "\n",
    "#fig, ax = plt.subplots(1, figsize = (6, 6))\n",
    "for i in range(n_iter):\n",
    "    control_gain_array = np.linspace(0,1,30)\n",
    "    cost_array = np.zeros(control_gain_array.shape)\n",
    "    for i in range(len(control_gain_array)):        \n",
    "        target = np.zeros(T)\n",
    "        lds_zero = LDS_1D(T, ini_state, noise_var, target)\n",
    "        L =  np.ones(T) * control_gain_array[i]\n",
    "        a, x = lds_zero.dynamics_zero_state(D, B, Q, R, L)\n",
    "        cost_array[i] = lds_zero.cost(x, a, Q, R)\n",
    "    cost_array_N.append(cost_array)\n",
    "        \n",
    "    lqr_zero = LQR_1D(T, ini_state, noise_var, target)\n",
    "    L =lqr_zero.control_gain_LQR(D, B, Q, R)\n",
    "    a, x = lds_zero.dynamics_zero_state(D, B, Q, R, L)\n",
    "    c = lds_zero.cost(x, a, Q, R)\n",
    "    lqr_cost_array.append(c)\n",
    "    \n",
    "cost_array_mean = np.mean(np.array(cost_array_N), axis = 0)\n",
    "\n",
    "cost_array_std = np.std(np.array(cost_array_N), axis = 0)\n",
    "\n",
    "lqr_cost_mean = np.mean(np.array(lqr_cost_array))\n",
    "lqr_cost_std = np.std(np.array(lqr_cost_array))\n",
    "\n",
    "fig, ax = plt.subplots(1, figsize = (6, 6))\n",
    "\n",
    "ax.plot(control_gain_array, cost_array_mean, 'r-')\n",
    "ax.fill_between(control_gain_array, cost_array_mean+cost_array_std, \n",
    "                cost_array_mean-cost_array_std, facecolor='c', alpha=0.5)\n",
    "\n",
    "\n",
    "ax.plot(control_gain_array, np.ones(control_gain_array.shape) * lqr_cost_mean, 'r-')\n",
    "ax.fill_between(control_gain_array, lqr_cost_mean+lqr_cost_std, \n",
    "                lqr_cost_mean-lqr_cost_std, facecolor='yellow', alpha=0.5)\n",
    "plt.show()"
   ]
  },
  {
   "cell_type": "code",
   "execution_count": null,
   "metadata": {},
   "outputs": [],
   "source": [
    "#act"
   ]
  },
  {
   "cell_type": "markdown",
   "metadata": {
    "colab_type": "text",
    "id": "IwHHQ1Nu3k8P"
   },
   "source": [
    "## LQR for tracking\n",
    "When the target state, denoted as $\\bar{x}$, is not zero staet, the cost function becomes\n",
    "$$ J(x, a) = \\sum_{t = 0}^{T-1} (Q (x_{t}- \\bar{x}_t) ^2 + R (a_{t} - \\bar{a}_t))^2 + Q_T (x_{T} - \\bar{x}_T) ^2$$,\n",
    "\n",
    "where $\\bar{a}_{t}$ is the desired input, i.e. $\\bar{x}_{t+1} = Dx_t + B\\bar{a}_{t}$.\n",
    "\n"
   ]
  },
  {
   "cell_type": "markdown",
   "metadata": {},
   "source": [
    "### Exercise 3: LQR control to desired target\n",
    "In this excercise, we will use LQR controller to track sinusoid function. \n",
    "\n",
    "** Suggestions **\n",
    "* In the following code, first generate the target trajectory of sinusoid.\n",
    "* Complete the code in function `dynamics_tracking( )` to update the control. In fact, the function dynamics_tracking( ) is a general version of the function `dynamcis_zero_state( )` in the first excercise, where the latter case takes zero state as the target, while the former one can take any trajectory as target. \n",
    "\n",
    "* Use the provided plotting functions to plot the states over time, the control over time, and the histogram of deviation from the target state."
   ]
  },
  {
   "cell_type": "code",
   "execution_count": null,
   "metadata": {
    "colab": {},
    "colab_type": "code",
    "id": "y_oKA-PY3k8P"
   },
   "outputs": [],
   "source": [
    "class LQR_1D_tracking(LQR_1D):\n",
    "    def __init__(self, T, ini_state, noise_var, target):\n",
    "        super().__init__(T, ini_state, noise_var, target)\n",
    "    \n",
    "    \n",
    "    def dynamics_tracking(self, D, B, Q, R, L):\n",
    "        \n",
    "        x = np.zeros(self.T) # states intialization\n",
    "        x[0] = self.ini_state\n",
    "\n",
    "        noise = np.random.normal(0, self.noise_var, self.T)\n",
    "        \n",
    "        a = np.zeros(T) # control intialization\n",
    "\n",
    "        for t in range(self.T - 1):\n",
    "            a[t] =  - L[t] * (x[t] - self.target[t]) + ( - D * x[t] + self.target[t + 1]) / B\n",
    "            x[t + 1] = D * x[t] + B * a[t] + noise[t]\n",
    "        \n",
    "        return a, x\n",
    "    "
   ]
  },
  {
   "cell_type": "code",
   "execution_count": null,
   "metadata": {
    "colab": {},
    "colab_type": "code",
    "id": "ogYtf9Z83k8R"
   },
   "outputs": [],
   "source": [
    "target = np.sin(np.arange(T) * 2 * np.pi * 5 /T)\n",
    "lqr_sine= LQR_1D_tracking(T, ini_state, noise_var, target)\n",
    "L =lqr_sine.control_gain_LQR(D, B, Q, R)\n",
    "a, x = lqr_sine.dynamics_tracking(D, B, Q, R, L)"
   ]
  },
  {
   "cell_type": "code",
   "execution_count": null,
   "metadata": {
    "colab": {
     "base_uri": "https://localhost:8080/",
     "height": 434
    },
    "colab_type": "code",
    "id": "_jKH5ccQ3k8U",
    "outputId": "839d29af-3140-4363-979b-fd83210e8ccb",
    "scrolled": true
   },
   "outputs": [],
   "source": [
    "lqr_sine.plot_control(a)"
   ]
  },
  {
   "cell_type": "code",
   "execution_count": null,
   "metadata": {},
   "outputs": [],
   "source": [
    "lqr_sine.plot_hist(x)"
   ]
  },
  {
   "cell_type": "code",
   "execution_count": null,
   "metadata": {},
   "outputs": [],
   "source": [
    "lqr_sine.plot_position(x)"
   ]
  },
  {
   "cell_type": "markdown",
   "metadata": {},
   "source": [
    "## LQG control of uncertain state with finite time horizon\n",
    "\n"
   ]
  },
  {
   "cell_type": "markdown",
   "metadata": {
    "colab_type": "text",
    "id": "C-w2Onf33k8W"
   },
   "source": [
    "when the agent is at different site, the observation and the evidence is different. \n",
    "\n",
    "stronger evidence gives more discrete beliefs. "
   ]
  },
  {
   "cell_type": "markdown",
   "metadata": {
    "colab_type": "text",
    "id": "EvKYJdzA3k8X"
   },
   "source": [
    "In the previous examples, a target state is provided. However, in practice, one cannot get access to all the state variables. Then there comes the questions: Can we recover the state variables through the measurable information? \n",
    "\n",
    "From yesterday's lecture, it is known that the stataes $\\hat{x}$ can be estimated with __Kalman filter__. We can replace the control law in LQR, i.e.\n",
    "\n",
    "$$a_t = - K^{lqg}_tx_t$$\n",
    "\n",
    "with the estimated states. "
   ]
  },
  {
   "cell_type": "code",
   "execution_count": null,
   "metadata": {
    "colab_type": "text",
    "id": "1xUFSyR09nSL"
   },
   "outputs": [],
   "source": [
    "class MyKalmanFilter():\n",
    "    def __init__(self, n_dim_state, n_dim_obs, transition_matrices, transition_covariance, observation_matrices,\n",
    "                observation_covariance, initial_state_mean, initial_state_covariance, control_matrices):\n",
    "        \"\"\"\n",
    "        @param n_dim_state: dimension of the laten variables\n",
    "        @param n_dim_obs: dimension of the observed variables\n",
    "        \"\"\"\n",
    "        self.n_dim_state = n_dim_state \n",
    "        self.n_dim_obs = n_dim_obs\n",
    "        self.transition_matrices = transition_matrices #np.eye(n_dim_state)\n",
    "        self.transition_covariance = transition_covariance #np.eye(n_dim_state) \n",
    "        self.observation_matrices = observation_matrices #np.eye(n_dim_obs, n_dim_state)\n",
    "        self.observation_covariance = observation_covariance #np.eye(n_dim_obs)\n",
    "        self.initial_state_mean = initial_state_mean #np.zeros(n_dim_state)\n",
    "        self.initial_state_covariance = initial_state_covariance #np.eye(n_dim_state)\n",
    "        \n",
    "        self.control_matrices = control_matrices #np.eye(n_dim_state)\n",
    "        \n",
    "    def sample(self, n_timesteps, control_gain, initial_state=None, random_seed=None):\n",
    "        \"\"\"\n",
    "        Method that gives samples\n",
    "        @param initial_state: numpy array whose length == self.n_dim_state\n",
    "        @param random_seed: an integer, for test purpose\n",
    "        @output state: a 2d numpy array with dimension [n_timesteps, self.n_dim_state]\n",
    "        @output observation: a 2d numpy array with dimension [n_timesteps, self.n_dim_obs]\n",
    "        \"\"\"\n",
    "        # set initial states and seed\n",
    "        if initial_state is None:\n",
    "            initial_state = self.initial_state_mean\n",
    "        if random_seed is not None:\n",
    "            np.random.seed(random_seed)\n",
    "\n",
    "        ################\n",
    "        ##### TODO #####\n",
    "        ################\n",
    "        # produce samples\n",
    "        latent_state = []\n",
    "        observed_state = []\n",
    "        current_latent_state = initial_state\n",
    "        for t in range(n_timesteps):\n",
    "            \n",
    "            # for the first latent state is set to the initial state\n",
    "            if t == 0:\n",
    "                latent_state.append(current_latent_state)\n",
    "            # otherwise use transition_matrices and transition_covariance to calculate next latent state\n",
    "            else:\n",
    "                #print(current_latent_state)\n",
    "                ###################LQG#################################\n",
    "                current_control = - control_gain[t] * current_latent_state\n",
    "                    \n",
    "                ###################LQG#################################\n",
    "                latent_state.append(np.dot(self.transition_matrices, current_latent_state) +\n",
    "                                    np.dot(self.control_matrices, current_control) + \n",
    "                                    np.random.multivariate_normal(np.zeros(self.n_dim_state),\n",
    "                                                                  self.transition_covariance))\n",
    "                current_latent_state = latent_state[-1]\n",
    "                \n",
    "                \n",
    "                \n",
    "            # use observation_matrices and observation_covariance to calculate next observed state\n",
    "            observed_state.append(np.dot(self.observation_matrices, current_latent_state) +\n",
    "                                  np.random.multivariate_normal(np.zeros(self.n_dim_obs), self.observation_covariance))\n",
    "\n",
    "        #latent_state = np.zeros([n_timesteps, self.n_dim_state])\n",
    "        #observed_state = np.zeros([n_timesteps, self.n_dim_obs])\n",
    "        return np.array(latent_state), np.array(observed_state)\n",
    "    \n",
    "\n",
    "    def filter(self, X, control_gain, use_myfilter=True):\n",
    "        \"\"\"\n",
    "        Method that performs Kalman filtering\n",
    "        @param X: a numpy 2D array whose dimension is [n_example, self.n_dim_obs]\n",
    "        @output: filtered_state_means: a numpy 2D array whose dimension is [n_example, self.n_dim_state]\n",
    "        @output: filtered_state_covariances: a numpy 3D array whose dimension is [n_example, self.n_dim_state, self.n_dim_state]\n",
    "        \"\"\"\n",
    "\n",
    "        # validate inputs\n",
    "        n_example, observed_dim = X.shape\n",
    "        assert observed_dim == self.n_dim_obs\n",
    "\n",
    "        # create holders for outputs\n",
    "        filtered_state_means = np.zeros([n_example, self.n_dim_state])\n",
    "        filtered_state_covariances = np.zeros([n_example, self.n_dim_state, self.n_dim_state])\n",
    "\n",
    "        #############################\n",
    "        # TODO: implement filtering #\n",
    "        #############################\n",
    "        if use_myfilter:\n",
    "            # the first state mean and state covar is the initial expectation\n",
    "            filtered_state_means[0] = self.initial_state_mean\n",
    "            filtered_state_covariances[0] = self.initial_state_covariance\n",
    "\n",
    "            # initialize internal variables\n",
    "            current_state_mean = self.initial_state_mean.copy()\n",
    "            current_state_covar = self.initial_state_covariance.copy()\n",
    "            self.p_n_list = np.zeros((n_example, self.n_dim_obs, self.n_dim_obs))\n",
    "            for i in range(1, n_example):\n",
    "                current_observed_data = X[i, :]\n",
    "                # run a single step forward filter\n",
    "                # prediction step\n",
    "                current_control = - control_gain[i - 1] * current_state_mean\n",
    "                \n",
    "                ###################LQG#################################\n",
    "                predicted_state_mean = np.dot(self.transition_matrices, current_state_mean\n",
    "                                             ) + np.dot(self.control_matrices, current_control)\n",
    "                predicted_state_cov = np.matmul(np.matmul(self.transition_matrices, current_state_covar),\n",
    "                                                np.transpose(self.transition_matrices)) + self.transition_covariance\n",
    "                # observation step\n",
    "                innovation = current_observed_data - np.dot(self.observation_matrices, predicted_state_mean)\n",
    "                innovation_covariance = np.matmul(np.matmul(self.observation_matrices, predicted_state_cov),\n",
    "                                                  np.transpose(self.observation_matrices)) + self.observation_covariance\n",
    "                # update step\n",
    "        \n",
    "     \n",
    "                kalman_gain = np.matmul(np.matmul(predicted_state_cov, np.transpose(self.observation_matrices)),\n",
    "                                        np.linalg.inv(innovation_covariance))\n",
    "                current_state_mean = predicted_state_mean + np.dot(kalman_gain, innovation) \n",
    "                current_state_covar = np.matmul((np.eye(current_state_covar.shape[0]) -\n",
    "                                                 np.matmul(kalman_gain, self.observation_matrices)),\n",
    "                                                predicted_state_cov)\n",
    "                # populate holders\n",
    "                filtered_state_means[i, :] = current_state_mean\n",
    "                filtered_state_covariances[i, :, :] = current_state_covar\n",
    "                self.p_n_list[i, :, :] = predicted_state_cov\n",
    "                # self.p_n_list[i-1, :, :] = predicted_state_cov\n",
    "            # new\n",
    "            # self.p_n_list[-1, :, :] = np.matmul(np.matmul(self.transition_matrices, filtered_state_covariances[-1,:,:]),\n",
    "            #                                    np.linalg.inv(self.transition_matrices)) + self.transition_covariance\n",
    "\n",
    "#         else:\n",
    "#             #################################################################################\n",
    "#             # below: this is an alternative if you do not have an implementation of filtering\n",
    "#             kf = KalmanFilter(n_dim_state=self.n_dim_state, n_dim_obs=self.n_dim_obs)\n",
    "#             need_params = ['transition_matrices', 'observation_matrices', 'transition_covariance',\n",
    "#                            'observation_covariance', 'initial_state_mean', 'initial_state_covariance']\n",
    "#             for param in need_params:\n",
    "#                 setattr(kf, param, getattr(self, param))\n",
    "#             filtered_state_means, filtered_state_covariances = kf.filter(X)\n",
    "#         #################################################################################\n",
    "\n",
    "        return filtered_state_means, filtered_state_covariances\n",
    "\n",
    "    def filter_com(self, n_timesteps, control_gain, use_myfilter=True):\n",
    "        \"\"\"\n",
    "        Method that performs Kalman filtering\n",
    "        @param X: a numpy 2D array whose dimension is [n_example, self.n_dim_obs]\n",
    "        @output: filtered_state_means: a numpy 2D array whose dimension is [n_example, self.n_dim_state]\n",
    "        @output: filtered_state_covariances: a numpy 3D array whose dimension is [n_example, self.n_dim_state, self.n_dim_state]\n",
    "        \"\"\"\n",
    "\n",
    "        # validate inputs\n",
    "        #n_example, observed_dim = X.shape\n",
    "        #assert observed_dim == self.n_dim_obs\n",
    "        \n",
    "        n_example = n_timesteps\n",
    "        observed_dim = self.n_dim_obs\n",
    "        latent_state = []\n",
    "        observed_state = []\n",
    "        control = []\n",
    "        current_latent_state = self.initial_state_mean #initial_state\n",
    "        control.append(self.initial_state_mean)\n",
    "        latent_state.append(current_latent_state)\n",
    "        observed_state.append(np.dot(self.observation_matrices, current_latent_state) +\n",
    "                                  np.random.multivariate_normal(np.zeros(self.n_dim_obs), self.observation_covariance))\n",
    "\n",
    "\n",
    "\n",
    "        # create holders for outputs\n",
    "        filtered_state_means = np.zeros([n_example, self.n_dim_state])\n",
    "        filtered_state_covariances = np.zeros([n_example, self.n_dim_state, self.n_dim_state])\n",
    "\n",
    "        #############################\n",
    "        # TODO: implement filtering #\n",
    "        #############################\n",
    "        if use_myfilter:\n",
    "            # the first state mean and state covar is the initial expectation\n",
    "            filtered_state_means[0] = self.initial_state_mean\n",
    "            filtered_state_covariances[0] = self.initial_state_covariance\n",
    "\n",
    "            # initialize internal variables\n",
    "            current_state_mean = self.initial_state_mean.copy()\n",
    "            current_state_covar = self.initial_state_covariance.copy()\n",
    "            self.p_n_list = np.zeros((n_example, self.n_dim_obs, self.n_dim_obs))\n",
    "            \n",
    "            for i in range(1, n_example):\n",
    "                #print(current_latent_state)\n",
    "                \n",
    "                ###################LQG#################################\n",
    "                current_control = - control_gain[i] * current_state_mean\n",
    "                control.append(current_control)    \n",
    "                ###################LQG#################################\n",
    "                \n",
    "                latent_state.append(np.dot(self.transition_matrices, current_latent_state) +\n",
    "                                    np.dot(self.control_matrices, current_control) + \n",
    "                                    np.random.multivariate_normal(np.zeros(self.n_dim_state),\n",
    "                                                                  self.transition_covariance))\n",
    "                current_latent_state = latent_state[-1]\n",
    "                \n",
    "                                \n",
    "                # use observation_matrices and observation_covariance to calculate next observed state\n",
    "                observed_state.append(np.dot(self.observation_matrices, current_latent_state\n",
    "                                            ) + np.random.multivariate_normal(np.zeros(self.n_dim_obs), self.observation_covariance))\n",
    "\n",
    "                observed_state.append(np.dot(self.observation_matrices, current_latent_state) +\n",
    "                                  np.random.multivariate_normal(np.zeros(self.n_dim_obs), self.observation_covariance))\n",
    "\n",
    "                \n",
    "                current_observed_data = observed_state[-1]\n",
    "                # run a single step forward filter\n",
    "                # prediction step\n",
    "                #current_control = - control_gain[i - 1] * current_state_mean\n",
    "                \n",
    "                ###################LQG#################################\n",
    "                predicted_state_mean = np.dot(self.transition_matrices, current_state_mean\n",
    "                                             ) + np.dot(self.control_matrices, current_control)\n",
    "                predicted_state_cov = np.matmul(np.matmul(self.transition_matrices, current_state_covar),\n",
    "                                                np.transpose(self.transition_matrices)) + self.transition_covariance\n",
    "                # observation step\n",
    "                innovation = current_observed_data - np.dot(self.observation_matrices, predicted_state_mean)\n",
    "                innovation_covariance = np.matmul(np.matmul(self.observation_matrices, predicted_state_cov),\n",
    "                                                  np.transpose(self.observation_matrices)) + self.observation_covariance\n",
    "                # update step\n",
    "        \n",
    "     \n",
    "                kalman_gain = np.matmul(np.matmul(predicted_state_cov, np.transpose(self.observation_matrices)),\n",
    "                                        np.linalg.inv(innovation_covariance))\n",
    "                current_state_mean = predicted_state_mean + np.dot(kalman_gain, innovation) \n",
    "                current_state_covar = np.matmul((np.eye(current_state_covar.shape[0]) -\n",
    "                                                 np.matmul(kalman_gain, self.observation_matrices)),\n",
    "                                                predicted_state_cov)\n",
    "                # populate holders\n",
    "                filtered_state_means[i, :] = current_state_mean\n",
    "                filtered_state_covariances[i, :, :] = current_state_covar\n",
    "                self.p_n_list[i, :, :] = predicted_state_cov\n",
    "                # self.p_n_list[i-1, :, :] = predicted_state_cov\n",
    "            # new\n",
    "            # self.p_n_list[-1, :, :] = np.matmul(np.matmul(self.transition_matrices, filtered_state_covariances[-1,:,:]),\n",
    "            #                                    np.linalg.inv(self.transition_matrices)) + self.transition_covariance\n",
    "\n",
    "#         else:\n",
    "#             #################################################################################\n",
    "#             # below: this is an alternative if you do not have an implementation of filtering\n",
    "#             kf = KalmanFilter(n_dim_state=self.n_dim_state, n_dim_obs=self.n_dim_obs)\n",
    "#             need_params = ['transition_matrices', 'observation_matrices', 'transition_covariance',\n",
    "#                            'observation_covariance', 'initial_state_mean', 'initial_state_covariance']\n",
    "#             for param in need_params:\n",
    "#                 setattr(kf, param, getattr(self, param))\n",
    "#             filtered_state_means, filtered_state_covariances = kf.filter(X)\n",
    "#         #################################################################################\n",
    "\n",
    "        return filtered_state_means, filtered_state_covariances, latent_state, observed_state, control\n",
    "\n",
    "\n"
   ]
  },
  {
   "cell_type": "code",
   "execution_count": null,
   "metadata": {},
   "outputs": [],
   "source": [
    "n_dim_state = 1\n",
    "n_dim_obs = 1\n",
    "n_timesteps = 20\n",
    "\n",
    "transition_matrices = np.eye(n_dim_state)*.9\n",
    "transition_covariance = np.eye(n_dim_obs) * .2\n",
    "observation_matrices = np.eye(n_dim_state)\n",
    "observation_covariance = np.eye(n_dim_obs) * 0.0001 \n",
    "initial_state_mean = np.zeros(n_dim_state)\n",
    "initial_state_covariance = np.eye(n_dim_state)*.01 \n",
    "control_matrices = np.eye(n_dim_state)"
   ]
  },
  {
   "cell_type": "code",
   "execution_count": null,
   "metadata": {},
   "outputs": [],
   "source": [
    "my_kf = MyKalmanFilter(n_dim_state, n_dim_obs, \n",
    "                       transition_matrices, transition_covariance, observation_matrices,\n",
    "                       observation_covariance, initial_state_mean, initial_state_covariance, control_matrices)"
   ]
  },
  {
   "cell_type": "code",
   "execution_count": null,
   "metadata": {},
   "outputs": [],
   "source": [
    "control_gain = np.ones(n_timesteps) * .87\n",
    "filtered_state_means_impl, filtered_state_covariances_impl, latent, data, control = my_kf.filter_com(n_timesteps, control_gain)"
   ]
  },
  {
   "cell_type": "code",
   "execution_count": null,
   "metadata": {},
   "outputs": [],
   "source": [
    "fig, ax = plt.subplots(1, 1)\n",
    "ax.plot(latent,filtered_state_means_impl, 'b.')\n",
    "ax.set_aspect('equal')\n",
    "ax.set_xlim([-4,4])\n",
    "ax.set_ylim([-4,4])\n",
    "plt.show()"
   ]
  },
  {
   "cell_type": "code",
   "execution_count": null,
   "metadata": {},
   "outputs": [],
   "source": [
    "plt.plot(latent, 'b')\n",
    "plt.plot(filtered_state_means_impl, 'r')"
   ]
  },
  {
   "cell_type": "code",
   "execution_count": null,
   "metadata": {},
   "outputs": [],
   "source": [
    "class LQG_1D(MyKalmanFilter, LQR_1D):\n",
    "    def __init__(self, T, target, n_dim_state, n_dim_obs, \n",
    "                 transition_matrices, transition_covariance, observation_matrices,\n",
    "                 observation_covariance, initial_state_mean, initial_state_covariance, control_matrices):\n",
    "        MyKalmanFilter.__init__(self,n_dim_state, n_dim_obs, \n",
    "                                transition_matrices, transition_covariance, \n",
    "                                observation_matrices,observation_covariance, \n",
    "                                initial_state_mean, initial_state_covariance, control_matrices)\n",
    "        LQR_1D.__init__(self,T, initial_state_mean, transition_covariance, target)   "
   ]
  },
  {
   "cell_type": "code",
   "execution_count": null,
   "metadata": {},
   "outputs": [],
   "source": [
    "target = np.zeros(n_timesteps)\n",
    "Q = 10 * np.eye(n_dim_state)   # cost of state\n",
    "R = 2 * np.eye(n_dim_obs)  # cost of control\n",
    "\n",
    "lqg = LQG_1D(n_timesteps, target, n_dim_state, n_dim_obs, \n",
    "             transition_matrices, transition_covariance, observation_matrices,\n",
    "             observation_covariance, initial_state_mean, initial_state_covariance, control_matrices)"
   ]
  },
  {
   "cell_type": "code",
   "execution_count": null,
   "metadata": {},
   "outputs": [],
   "source": [
    "control_gain_lqg = lqg.control_gain_LQR(transition_matrices, control_matrices, Q, R)\n",
    "control_gain_lqg = np.ones(control_gain_lqg.shape) * 0.7\n",
    "control_gain_lqg[-1] = 0\n",
    "filtered_state_means_impl, filtered_state_covariances_impl, latent, data, control = lqg.filter_com(\n",
    "    n_timesteps, control_gain_lqg)\n",
    "\n",
    "control_gain_lqg"
   ]
  },
  {
   "cell_type": "code",
   "execution_count": null,
   "metadata": {},
   "outputs": [],
   "source": [
    "# cost to go\n",
    "for i in range(len(latent)):\n",
    "    print(np.sum(np.square(latent[i:])) * Q + np.sum(np.square(control[i:])) * R)"
   ]
  },
  {
   "cell_type": "code",
   "execution_count": null,
   "metadata": {},
   "outputs": [],
   "source": [
    "control_gain_lqg = lqg.control_gain_LQR(transition_matrices, control_matrices, Q, R)\n",
    "filtered_state_means_impl, filtered_state_covariances_impl, latent, data, control = lqg.filter_com(\n",
    "    n_timesteps, control_gain_lqg)"
   ]
  },
  {
   "cell_type": "code",
   "execution_count": null,
   "metadata": {},
   "outputs": [],
   "source": [
    "plt.plot(control_gain_lqg)"
   ]
  },
  {
   "cell_type": "code",
   "execution_count": null,
   "metadata": {},
   "outputs": [],
   "source": [
    "# cost to go\n",
    "cost_to_go = []\n",
    "for i in range(len(latent)):\n",
    "    cost_to_go.append(np.squeeze(np.sum(np.square(latent[i:])) * Q + np.sum(np.square(control[i:])) * R))"
   ]
  },
  {
   "cell_type": "code",
   "execution_count": null,
   "metadata": {},
   "outputs": [],
   "source": [
    "plt.plot(cost_to_go)"
   ]
  },
  {
   "cell_type": "code",
   "execution_count": null,
   "metadata": {},
   "outputs": [],
   "source": [
    "# from control import lqr\n",
    "# K,S,E=lqr(transition_matrices, control_matrices,Q,R)\n",
    "# K, S, E"
   ]
  },
  {
   "cell_type": "code",
   "execution_count": null,
   "metadata": {},
   "outputs": [],
   "source": [
    "# control_gain_lqg = lqg.control_gain_LQR(transition_matrices, control_matrices, Q, R)\n",
    "# control_gain_lqg = - K[0, 0] * np.ones(control_gain_lqg.shape)\n",
    "# filtered_state_means_impl, filtered_state_covariances_impl, latent, data, control = lqg.filter_com(\n",
    "#     n_timesteps, control_gain_lqg)\n",
    "# lqg.cost(latent, control, Q, R)\n"
   ]
  },
  {
   "cell_type": "code",
   "execution_count": null,
   "metadata": {},
   "outputs": [],
   "source": [
    "# def dlqr(A,B,Q,R):\n",
    "#     \"\"\"Solve the discrete time lqr controller.\n",
    "    \n",
    "#     x[k+1] = A x[k] + B u[k]\n",
    "    \n",
    "#     cost = sum x[k].T*Q*x[k] + u[k].T*R*u[k]\n",
    "#     \"\"\"\n",
    "#     #ref Bertsekas, p.151\n",
    "    \n",
    "#     #first, try to solve the ricatti equation\n",
    "#     P = np.matrix(scipy.linalg.solve_discrete_are(A, B, Q, R))\n",
    "    \n",
    "#     #compute the LQR gain\n",
    "#     K = np.matrix(scipy.linalg.inv(B.T*P*B+R)*(B.T*P*A))\n",
    "    \n",
    "#     eigVals, eigVecs = scipy.linalg.eig(A-B*K)\n",
    "    \n",
    "#     return K, P, eigVals\n",
    "\n",
    "# K, P, eigVals = dlqr(transition_matrices, control_matrices, Q, R)\n",
    "# #u = np.dot(-K, (state - target))  #2x1\n",
    "# K, P, eigVals"
   ]
  },
  {
   "cell_type": "code",
   "execution_count": null,
   "metadata": {},
   "outputs": [],
   "source": [
    "# def lqr(A,B,Q,R):\n",
    "#     \"\"\"Solve the continuous time lqr controller.\n",
    "    \n",
    "#     dx/dt = A x + B u\n",
    "    \n",
    "#     cost = integral x.T*Q*x + u.T*R*u\n",
    "#     \"\"\"\n",
    "#     #ref Bertsekas, p.151\n",
    "    \n",
    "#     #first, try to solve the ricatti equation\n",
    "#     P = np.matrix(scipy.linalg.solve_continuous_are(A, B, Q, R))\n",
    "    \n",
    "#     #compute the LQR gain\n",
    "#     K = np.matrix(scipy.linalg.inv(R)*(B.T*P))\n",
    "    \n",
    "#     eigVals, eigVecs = scipy.linalg.eig(A-B*K)\n",
    "    \n",
    "#     return K, P, eigVals\n",
    "\n",
    "# K, P, eigVals = dlqr(transition_matrices, control_matrices, Q, R)\n",
    "# #u = np.dot(-K, (state - target))  #2x1\n",
    "# K, P"
   ]
  },
  {
   "cell_type": "code",
   "execution_count": null,
   "metadata": {},
   "outputs": [],
   "source": [
    "# for i in range(20):\n",
    "#     #L = np.ones(n_timesteps) * 0.5\n",
    "\n",
    "#     filtered_state_means_impl, filtered_state_covariances_impl, latent, data, control = lqg.filter_com(\n",
    "#         n_timesteps, control_gain_lqg)\n",
    "\n",
    "#     print(lqg.cost(latent, control, Q, R))"
   ]
  },
  {
   "cell_type": "code",
   "execution_count": null,
   "metadata": {},
   "outputs": [],
   "source": [
    "# latent, data = lqg.sample(n_timesteps, L, initial_state=my_kf.initial_state_mean)\n",
    "# filtered_state_means_impl, filtered_state_covariances_impl = lqg.filter(data, L)\n",
    "fig, ax = plt.subplots(1, 1)\n",
    "ax.plot(latent,filtered_state_means_impl, 'b.')\n",
    "ax.set_aspect('equal')\n",
    "ax.set_xlim([-4,4])\n",
    "ax.set_ylim([-4,4])\n",
    "plt.show()"
   ]
  },
  {
   "cell_type": "code",
   "execution_count": null,
   "metadata": {},
   "outputs": [],
   "source": [
    "plt.plot(latent, 'b')\n",
    "plt.plot(filtered_state_means_impl, 'r')"
   ]
  },
  {
   "cell_type": "code",
   "execution_count": null,
   "metadata": {},
   "outputs": [],
   "source": [
    "lqg_cost_array = [] \n",
    "cost_array_N = []\n",
    "n_iter = 200\n",
    "\n",
    "#fig, ax = plt.subplots(1, figsize = (6, 6))\n",
    "for i in range(n_iter):\n",
    "    control_gain_array = np.linspace(0.1,1.5,20)\n",
    "    cost_array = np.zeros(control_gain_array.shape)\n",
    "    for i in range(len(control_gain_array)):\n",
    "        control_gain = np.ones(n_timesteps) * control_gain_array[i]\n",
    "        filtered_state_means_impl, filtered_state_covariances_impl, latent, data, control = lqg.filter_com(\n",
    "            n_timesteps, control_gain)\n",
    "        cost_array[i] = lqg.cost(latent, control, Q, R)\n",
    "    cost_array_N.append(cost_array)\n",
    "        \n",
    "    control_gain_lqg = lqg.control_gain_LQR(transition_matrices, control_matrices, Q, R)\n",
    "    filtered_state_means_impl, filtered_state_covariances_impl, latent, data, control = lqg.filter_com(\n",
    "        n_timesteps, control_gain_lqg)\n",
    "    lqg_cost = lqg.cost(latent, control, Q, R)\n",
    "    lqg_cost_array.append(lqg_cost)\n",
    "\n",
    "cost_array_mean = np.mean(np.array(cost_array_N), axis = 0)\n",
    "\n",
    "cost_array_std = np.std(np.array(cost_array_N), axis = 0)\n",
    "\n",
    "lqg_cost_mean = np.mean(np.array(lqg_cost_array))\n",
    "lqg_cost_std = np.std(np.array(lqg_cost_array))\n",
    "\n",
    "fig, ax = plt.subplots(1, figsize = (6, 6))\n",
    "\n",
    "ax.plot(control_gain_array, cost_array_mean, 'r-')\n",
    "ax.fill_between(control_gain_array, cost_array_mean+cost_array_std, \n",
    "                cost_array_mean-cost_array_std, facecolor='c', alpha=0.5)\n",
    "\n",
    "\n",
    "ax.plot(control_gain_array, np.ones(control_gain_array.shape) * lqg_cost_mean, 'r-')\n",
    "ax.fill_between(control_gain_array, lqg_cost_mean+lqg_cost_std, \n",
    "                lqg_cost_mean-lqg_cost_std, facecolor='yellow', alpha=0.5)\n",
    "plt.show()"
   ]
  },
  {
   "cell_type": "code",
   "execution_count": null,
   "metadata": {},
   "outputs": [],
   "source": []
  }
 ],
 "metadata": {
  "colab": {
   "collapsed_sections": [],
   "name": "Copy of Tutorial1_optimal_control_discrete (no comment).ipynb",
   "provenance": []
  },
  "kernelspec": {
   "display_name": "Python 3",
   "language": "python",
   "name": "python3"
  },
  "language_info": {
   "codemirror_mode": {
    "name": "ipython",
    "version": 3
   },
   "file_extension": ".py",
   "mimetype": "text/x-python",
   "name": "python",
   "nbconvert_exporter": "python",
   "pygments_lexer": "ipython3",
   "version": "3.7.6"
  },
  "pycharm": {
   "stem_cell": {
    "cell_type": "raw",
    "metadata": {
     "collapsed": false
    },
    "source": [
     "# Tutorial 1- Optimal Control for Discrete State\n",
     "\n",
     "Please execute the cell below to initialize the notebook environment.\n",
     "\n",
     "import numpy as np                 # import numpy\n",
     "import scipy               # import scipy\n",
     "import random                      # import basic random number generator functions\n",
     "from scipy.linalg import inv\n",
     "\n",
     "import matplotlib.pyplot as plt    # import matplotlib\n",
     "\n",
     "---\n",
     "\n",
     "## Tutorial objectives\n",
     "\n",
     "In this tutorial, we will implement a binary HMM task.\n",
     "\n",
     "---\n",
     "\n",
     "## Task Description\n",
     "\n",
     "There are two boxes. The box can be in a high-rewarding state ($s=1$), which means that a reward will be delivered with high probabilty $q_{high}$; or the box can be in low-rewarding state ($s=0$), then the reward will be delivered with low probabilty $q_{low}$.\n",
     "\n",
     "The states of the two boxes are latent. At a certain time, only one of the sites can be in high-rewarding state, and the other box will be the opposite. The states of the two boxes switches with a certain probability $p_{sw}$. \n",
     "\n",
     "![alt text](switching.png \"Title\")\n",
     "\n",
     "\n",
     "The agent may stay at one site for sometime. As the agent accumulates evidence about the state of the box on that site, it may choose to stay or switch to the other side with a switching cost $c$. The agent keeps beliefs on the states of the boxes, which is the posterior probability of the state being high-rewarding given all the past observations. Consider the belief on the state of the left box, we have \n",
     "\n",
     "$$b(s_t) = p(s_t = 1 | o_{0:t}, l_{0:t}, a_{0:t-1})$$\n",
     "\n",
     "where $o$ is the observation that whether a reward is obtained, $l$ is the location of the agent, $a$ is the action of staying ($a=0$) or switching($a=1$). \n",
     "\n",
     "Since the two boxes are completely anti-correlated, i.e. only one of the boxes is high-rewarded at a certain time, the the other one is low-rewarded, the belief on the two boxes should sum up to be 1. As a result, we only need to track the belief on one of the boxes. \n",
     "\n",
     "The policy of the agent depends on a threshold on beliefs. When the belief on the box on the other side gets higher than the threshold $\\theta$, the agent will switch to the other side. In other words, the agent will choose to switch when it is confident enough that the other side is high rewarding. \n",
     "\n",
     "The value function can be defined as the reward rate during a single trial.\n",
     "\n",
     "$$v(\\theta) = \\sum_t r_t - c\\cdot 1_{a_t = 1}$$ \n",
     "\n",
     "we would like to see the relation between the threshold and the value function. \n",
     "\n",
     "### Exercise 1: Control for binary HMM\n",
     "In this excercise, we generate the dynamics for the binary HMM task as described above. \n",
     "\n",
     "# This function is the policy based on threshold\n",
     "\n",
     "def policy(threshold, bel, loc):\n",
     "    if loc == 0:\n",
     "        if bel[1]  >= threshold:\n",
     "            act = 1\n",
     "        else:\n",
     "            act = 0\n",
     "    else:  # loc = 1\n",
     "        if bel[0] >= threshold:\n",
     "            act = 1\n",
     "        else:\n",
     "            act = 0\n",
     "\n",
     "    return act\n",
     "\n",
     "# This function generates the dynamics\n",
     "\n",
     "def generateProcess(params):\n",
     "\n",
     "    T, p_sw, q_high, q_low, cost_sw, threshold = params\n",
     "    world_state = np.zeros((2, T), int)  # value :1: good box; 0: bad box\n",
     "    loc = np.zeros(T, int)  # 0: left box               1: right box\n",
     "    obs = np.zeros(T, int)  # 0: did not get food        1: get food\n",
     "    act = np.zeros(T, int)  # 0 : stay                   1: switch and get food from the other side\n",
     "    bel = np.zeros((2, T), float)  # the probability that the left box has food,\n",
     "    # then the probability that the second box has food is 1-b\n",
     "\n",
     "\n",
     "    p = np.array([1 - p_sw, p_sw])  # transition probability to good state\n",
     "    q = np.array([q_low, q_high])\n",
     "    q_mat = np.array([[1 - q_high, q_high], [1 - q_low, q_low]])\n",
     "\n",
     "    for t in range(T):\n",
     "        if t == 0:\n",
     "            world_state[0, t] = 1    # good box\n",
     "            world_state[1, t] = 1 - world_state[0, t]\n",
     "            loc[t] = 0\n",
     "            obs[t] = 0\n",
     "            bel_0 = np.random.random(1)[0]\n",
     "            bel[:, t] = np.array([bel_0, 1-bel_0])\n",
     "\n",
     "            act[t] = policy(threshold, bel[:, t], loc[t])\n",
     "\n",
     "        else:\n",
     "            world_state[0, t] = np.random.binomial(1, p[world_state[0, t - 1]])\n",
     "            world_state[1, t] = 1 - world_state[0, t]\n",
     "\n",
     "            if act[t - 1] == 0:\n",
     "                loc[t] = loc[t - 1]\n",
     "            else:  # after weitching, open the new box, deplete if any; then wait a usualy time\n",
     "                loc[t] = 1 - loc[t - 1]\n",
     "\n",
     "            # new observation\n",
     "            obs[t] = np.random.binomial(1, q[world_state[loc[t], t-1]])\n",
     "\n",
     "            # update belief posterior, p(s[t] | obs(0-t), act(0-t-1))\n",
     "            bel_0 = (bel[0, t-1] * p_sw  + bel[1, t-1] * (1 - p_sw)) * q_mat[loc[t], obs[t]]\n",
     "            bel_1 = (bel[1, t - 1] * p_sw + bel[0, t - 1] * (1 - p_sw)) * q_mat[1-loc[t], obs[t]]\n",
     "\n",
     "            bel[0, t] = bel_0 / (bel_0 + bel_1)\n",
     "            bel[1, t] = bel_1 / (bel_0 + bel_1)\n",
     "\n",
     "            act[t] = policy(threshold, bel[:, t], loc[t])\n",
     "\n",
     "    return bel, obs, act, world_state, loc\n",
     "\n",
     "# value function \n",
     "def value_function(obs, act, cost_sw, discount):\n",
     "    T = len(obs)\n",
     "    discount_time = np.array([discount ** t for t in range(T)])\n",
     "\n",
     "    #value = (np.sum(obs) - np.sum(act) * cost_sw) / T\n",
     "    value = (np.sum(np.multiply(obs, discount_time)) - np.sum(np.multiply(act, discount_time)) * cost_sw) / T\n",
     "\n",
     "    return value\n",
     "\n",
     "def switch_int(obs, act):\n",
     "    sw_t = np.where(act == 1)[0]\n",
     "    sw_int = sw_t[1:] - sw_t[:-1]\n",
     "\n",
     "    return sw_int\n",
     "\n",
     "#Plotting \n",
     "def plot_dynamics(bel, obs, act, world_state, loc):\n",
     "    T = len(obs)\n",
     "\n",
     "    showlen = min(T, 100)\n",
     "    startT = 0\n",
     "\n",
     "    endT = startT + showlen\n",
     "    showT = range(startT, endT)\n",
     "    time_range = np.linspace(0, showlen - 1)\n",
     "\n",
     "    fig_posterior, [ax0, ax1, ax_loc, ax2, ax3] = plt.subplots(5, 1, figsize=(15, 10))\n",
     "\n",
     "    ax0.plot(world_state[0, showT], color='dodgerblue', markersize=10, linewidth=3.0)\n",
     "    ax0.set_ylabel('Left box', rotation=360, fontsize=22)\n",
     "    ax0.yaxis.set_label_coords(-0.1, 0.25)\n",
     "    ax0.set_xticks(np.arange(0, showlen, 10))\n",
     "    ax0.tick_params(axis='both', which='major', labelsize=18)\n",
     "    ax0.set_xlim([0, showlen])\n",
     "\n",
     "\n",
     "    ax3.plot(world_state[1, showT], color='dodgerblue', markersize=10, linewidth=3.0)\n",
     "    ax3.set_ylabel('Right box', rotation=360, fontsize=22)\n",
     "    ax3.yaxis.set_label_coords(-0.1, 0.25)\n",
     "    ax3.tick_params(axis='both', which='major', labelsize=18)\n",
     "    ax3.set_xlim([0, showlen])\n",
     "    ax3.set_xticks(np.arange(0, showlen, 10))\n",
     "\n",
     "    ax1.plot(bel[0, showT], color='dodgerblue', markersize=10, linewidth=3.0)\n",
     "    ax1.plot(time_range, threshold * np.ones(time_range.shape), 'r--')\n",
     "    ax1.yaxis.set_label_coords(-0.1, 0.25)\n",
     "    ax1.set_ylabel('Belief on \\n left box', rotation=360, fontsize=22)\n",
     "    ax1.tick_params(axis='both', which='major', labelsize=18)\n",
     "    ax1.set_xlim([0, showlen])\n",
     "    ax1.set_ylim([0, 1])\n",
     "    ax1.set_xticks(np.arange(0, showlen, 10))\n",
     "\n",
     "\n",
     "    ax_loc.plot(1 - loc[showT], 'g.-', markersize=12, linewidth=5, label = 'location')\n",
     "    ax_loc.plot((act[showT] - .1) * .8, 'v', markersize=10, label = 'action')\n",
     "    ax_loc.plot(obs[showT] * .5, '*', markersize=5, label = 'reward')\n",
     "    ax_loc.legend(loc=\"upper right\")\n",
     "    ax_loc.set_xlim([0, showlen])\n",
     "    ax_loc.set_ylim([0, 1])\n",
     "    #ax_loc.set_yticks([])\n",
     "    ax_loc.set_xticks([0, showlen])\n",
     "    ax_loc.tick_params(axis='both', which='major', labelsize=18)\n",
     "    labels = [item.get_text() for item in ax_loc.get_yticklabels()]\n",
     "    labels[0] = 'Right'\n",
     "    labels[-1] = 'Left'\n",
     "    ax_loc.set_yticklabels(labels)\n",
     "\n",
     "    ax2.plot(bel[1, showT], color='dodgerblue', markersize=10, linewidth=3.0)\n",
     "    ax2.plot(time_range, threshold * np.ones(time_range.shape), 'r--')\n",
     "    ax2.set_xlabel('time', fontsize=18)\n",
     "    ax2.yaxis.set_label_coords(-0.1, 0.25)\n",
     "    ax2.set_ylabel('Belief on  \\n  right box', rotation=360, fontsize=22)\n",
     "    ax2.tick_params(axis='both', which='major', labelsize=18)\n",
     "    ax2.set_xlim([0, showlen])\n",
     "    ax2.set_ylim([0, 1])\n",
     "    ax2.set_xticks(np.arange(0, showlen, 10))\n",
     "\n",
     "    plt.show()\n",
     "\n",
     "def plot_val_thre(threshold_array, value_array):\n",
     "    fig_, ax = plt.subplots(1, 1, figsize=(10, 10))\n",
     "    ax.plot(threshold_array, value_array)\n",
     "    ax.set_ylim([np.min(value_array), np.max(value_array)])\n",
     "    ax.set_title('threshold vs value')\n",
     "    ax.set_xlabel('threshold')\n",
     "    ax.set_ylabel('value')\n",
     "    plt.show()\n",
     "\n",
     "T = 5000\n",
     "p_sw = .95          # state transiton probability\n",
     "q_high = .7\n",
     "q_low = 0 #.2\n",
     "cost_sw = 1 #int(1/(1-p_sw)) - 5\n",
     "threshold = .8    # threshold of belief for switching\n",
     "discount = 1\n",
     "\n",
     "step = 0.1\n",
     "threshold_array = np.arange(0, 1 + step, step)\n",
     "value_array = np.zeros(threshold_array.shape)\n",
     "\n",
     "for i in range(len(threshold_array)):\n",
     "    threshold = threshold_array[i]\n",
     "    params = [T, p_sw, q_high, q_low, cost_sw, threshold]\n",
     "    bel, obs, act, world_state, loc = generateProcess(params)\n",
     "    value_array[i] = value_function(obs, act, cost_sw, discount)\n",
     "    sw_int = switch_int(obs, act)\n",
     "    #print(np.mean(sw_int))\n",
     "\n",
     "    if threshold == 0.8:\n",
     "        plot_dynamics(bel, obs, act, world_state, loc)\n",
     "\n",
     "plot_val_thre(threshold_array, value_array)\n",
     "\n",
     "\n",
     "\n",
     "\n",
     "\n",
     "\n",
     "\n",
     "\n"
    ]
   }
  }
 },
 "nbformat": 4,
 "nbformat_minor": 1
}
